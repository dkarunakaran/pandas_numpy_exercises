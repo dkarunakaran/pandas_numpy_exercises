{
 "cells": [
  {
   "cell_type": "code",
   "execution_count": 5,
   "id": "e99787cb-7670-424e-bc41-1cdf3ae022c9",
   "metadata": {},
   "outputs": [
    {
     "data": {
      "text/html": [
       "\n",
       "<h1>Code from Python For Data Analysis book by Wes McKinney</h1>\n"
      ],
      "text/plain": [
       "<IPython.core.display.HTML object>"
      ]
     },
     "metadata": {},
     "output_type": "display_data"
    }
   ],
   "source": [
    "%%html\n",
    "\n",
    "<h1>Code from Python For Data Analysis book by Wes McKinney</h1>"
   ]
  },
  {
   "cell_type": "code",
   "execution_count": 4,
   "id": "adeb1aa3-6747-471f-96ab-c501c2ca5244",
   "metadata": {},
   "outputs": [
    {
     "data": {
      "text/html": [
       "\n",
       "<h1>List of chapters in this book:<h1>\n",
       "<h2>Chapter 2  - Python language basics</h2>\n",
       "<h2>Chapter 3 - Built in data structures, functions, and files</h2>\n",
       "<h2>Chapter 4  - Numpy basics: Arrays and Vectorized Computation</h2>\n"
      ],
      "text/plain": [
       "<IPython.core.display.HTML object>"
      ]
     },
     "metadata": {},
     "output_type": "display_data"
    }
   ],
   "source": [
    "%%html\n",
    "\n",
    "<h1>List of chapters in this book:<h1>\n",
    "<h2>Chapter 2  - Python language basics</h2>\n",
    "<h2>Chapter 3 - Built in data structures, functions, and files</h2>\n",
    "<h2>Chapter 4  - Numpy basics: Arrays and Vectorized Computation</h2>\n"
   ]
  },
  {
   "cell_type": "code",
   "execution_count": 2,
   "id": "71849090-6823-4388-b632-3b25ccb85758",
   "metadata": {},
   "outputs": [
    {
     "data": {
      "text/html": [
       "\n",
       "<h2>Chapter 2  - Python language basics</h2>\n"
      ],
      "text/plain": [
       "<IPython.core.display.HTML object>"
      ]
     },
     "metadata": {},
     "output_type": "display_data"
    }
   ],
   "source": [
    "%%html\n",
    "\n",
    "<h2>Chapter 2  - Python language basics</h2>"
   ]
  },
  {
   "cell_type": "code",
   "execution_count": 31,
   "id": "0e19414c-5110-4ed9-b0d2-c9b6c2cc40f9",
   "metadata": {},
   "outputs": [
    {
     "name": "stdout",
     "output_type": "stream",
     "text": [
      "3\n"
     ]
    }
   ],
   "source": [
    "# Python statement doesnot need to use semicolon to terminate. However, semicolon can be \n",
    "# used to seperate multiple statements on a single line. \n",
    "a=1;c=3;b=1\n",
    "print(c)"
   ]
  },
  {
   "cell_type": "code",
   "execution_count": 32,
   "id": "42e33b02-86ba-4632-adb6-78835b7cc174",
   "metadata": {},
   "outputs": [],
   "source": [
    "# EVerything in python is a python object - string, data structures, function, class etc."
   ]
  },
  {
   "cell_type": "code",
   "execution_count": 35,
   "id": "02038d1b-79b8-4a80-9703-d96d550f0a47",
   "metadata": {},
   "outputs": [
    {
     "name": "stdout",
     "output_type": "stream",
     "text": [
      "True\n",
      "False\n",
      "True\n"
     ]
    }
   ],
   "source": [
    "x = [\"apple\", \"banana\"]\n",
    "y = [\"apple\", \"banana\"]\n",
    "z = x\n",
    "\n",
    "print(x is z)\n",
    "\n",
    "# returns True because z is the same object as x\n",
    "\n",
    "print(x is y)\n",
    "\n",
    "# returns False because x is not the same object as y, even if they have the same content\n",
    "\n",
    "print(x == y)\n",
    "\n",
    "# to demonstrate the difference betweeen \"is\" and \"==\": this comparison returns True because x is equal to y\n"
   ]
  },
  {
   "cell_type": "code",
   "execution_count": 4,
   "id": "e99534e6-9995-4359-871c-ff9a719f8f29",
   "metadata": {},
   "outputs": [
    {
     "name": "stdout",
     "output_type": "stream",
     "text": [
      "<class 'str'>\n",
      "<class 'float'>\n",
      "True\n"
     ]
    }
   ],
   "source": [
    "# Type casting \n",
    "val = \"3.14\"\n",
    "print(type(val))\n",
    "val = float(val)\n",
    "print(type(val))\n",
    "val = bool(val) # most non zero value will be true for boolean casting and false for zero.\n",
    "print(val) "
   ]
  },
  {
   "cell_type": "code",
   "execution_count": 8,
   "id": "f64f0763-8f4b-43f9-a872-8072771c1078",
   "metadata": {},
   "outputs": [
    {
     "name": "stdout",
     "output_type": "stream",
     "text": [
      "2011-10-29\n",
      "29\n",
      "30\n"
     ]
    }
   ],
   "source": [
    "# Date and times\n",
    "\n",
    "from datetime import datetime, date, time\n",
    "\n",
    "dt = datetime(2011,10,29,20,30,21)\n",
    "\n",
    "print(dt.date())\n",
    "print(dt.day)\n",
    "print(dt.minute)"
   ]
  },
  {
   "cell_type": "code",
   "execution_count": 9,
   "id": "9d278cb1-5d93-4446-9c78-40bca6eb1733",
   "metadata": {},
   "outputs": [
    {
     "data": {
      "text/html": [
       "\n",
       "<h2>Chapter 3  - Built in data structures, functions, and files</h2>\n"
      ],
      "text/plain": [
       "<IPython.core.display.HTML object>"
      ]
     },
     "metadata": {},
     "output_type": "display_data"
    }
   ],
   "source": [
    "%%html\n",
    "\n",
    "<h2>Chapter 3  - Built in data structures, functions, and files</h2>"
   ]
  },
  {
   "cell_type": "code",
   "execution_count": 14,
   "id": "20cca948-b146-4190-9d22-90e981ba3e01",
   "metadata": {},
   "outputs": [
    {
     "data": {
      "text/html": [
       "\n",
       "<h3>Tuple</h3>\n"
      ],
      "text/plain": [
       "<IPython.core.display.HTML object>"
      ]
     },
     "metadata": {},
     "output_type": "display_data"
    }
   ],
   "source": [
    "%%html\n",
    "\n",
    "<h3>Tuple</h3>"
   ]
  },
  {
   "cell_type": "code",
   "execution_count": 12,
   "id": "ce6ba648-1fe9-4b10-bc8c-cc4bff5d145b",
   "metadata": {},
   "outputs": [
    {
     "name": "stdout",
     "output_type": "stream",
     "text": [
      "1\n"
     ]
    },
    {
     "ename": "TypeError",
     "evalue": "'tuple' object does not support item assignment",
     "output_type": "error",
     "traceback": [
      "\u001b[0;31m---------------------------------------------------------------------------\u001b[0m",
      "\u001b[0;31mTypeError\u001b[0m                                 Traceback (most recent call last)",
      "Cell \u001b[0;32mIn[12], line 8\u001b[0m\n\u001b[1;32m      6\u001b[0m \u001b[38;5;66;03m#Immuatable\u001b[39;00m\n\u001b[1;32m      7\u001b[0m \u001b[38;5;28mprint\u001b[39m(tup[\u001b[38;5;241m0\u001b[39m])\n\u001b[0;32m----> 8\u001b[0m \u001b[43mtup\u001b[49m\u001b[43m[\u001b[49m\u001b[38;5;241;43m0\u001b[39;49m\u001b[43m]\u001b[49m \u001b[38;5;241m=\u001b[39m\u001b[38;5;241m4\u001b[39m\n",
      "\u001b[0;31mTypeError\u001b[0m: 'tuple' object does not support item assignment"
     ]
    }
   ],
   "source": [
    "tup = (1,2,3)\n",
    "\n",
    "#Immuatable\n",
    "print(tup[0])\n",
    "tup[0] =4"
   ]
  },
  {
   "cell_type": "code",
   "execution_count": 16,
   "id": "14af7abf-eec4-484a-8909-425900c6139b",
   "metadata": {},
   "outputs": [
    {
     "name": "stdout",
     "output_type": "stream",
     "text": [
      "('s', 't', 'r', 'i', 'n', 'g')\n"
     ]
    }
   ],
   "source": [
    "# In many context, paranenthesis can be omitted\n",
    "tup = 1,2,3\n",
    "\n",
    "# Tuple casting\n",
    "tup = tuple('string')\n",
    "print(tup)"
   ]
  },
  {
   "cell_type": "code",
   "execution_count": 18,
   "id": "a5d2612f-2178-467d-b5b3-1ef8db0257ba",
   "metadata": {},
   "outputs": [
    {
     "name": "stdout",
     "output_type": "stream",
     "text": [
      "((4, 5, 6), (7, 8))\n",
      "(4, 5, 6)\n"
     ]
    }
   ],
   "source": [
    "# Nested tuple\n",
    "tup = (4,5,6),(7,8)\n",
    "print(tup)\n",
    "print(tup[0])"
   ]
  },
  {
   "cell_type": "code",
   "execution_count": 19,
   "id": "e3021492-da72-4d3d-966b-b0b15979284a",
   "metadata": {},
   "outputs": [],
   "source": [
    "# tuple can hold mixed data formats\n",
    "tup = (4,5,6),\"hello\",(5,6)"
   ]
  },
  {
   "cell_type": "code",
   "execution_count": 20,
   "id": "4df05af2-9201-4b5e-aaf8-6cffecdd8cc0",
   "metadata": {},
   "outputs": [
    {
     "name": "stdout",
     "output_type": "stream",
     "text": [
      "((4, 5, 6), 'hello', (5, 6))\n"
     ]
    }
   ],
   "source": [
    "print(tup)"
   ]
  },
  {
   "cell_type": "code",
   "execution_count": 24,
   "id": "d39c7867-06fb-4abd-a911-679dbd15422b",
   "metadata": {},
   "outputs": [
    {
     "name": "stdout",
     "output_type": "stream",
     "text": [
      "1\n",
      "6\n"
     ]
    }
   ],
   "source": [
    "# Unpacking tuples\n",
    "tup = (1,2,3)\n",
    "a,b,c = tup\n",
    "print(a)\n",
    "\n",
    "tup = (4,5,(6,7))\n",
    "a,b,(c,d) = tup\n",
    "print(c)"
   ]
  },
  {
   "cell_type": "code",
   "execution_count": 28,
   "id": "81214b67-38bd-4079-bbf7-5e99552d4556",
   "metadata": {},
   "outputs": [
    {
     "name": "stdout",
     "output_type": "stream",
     "text": [
      "[3, 4, 5]\n",
      "1\n"
     ]
    }
   ],
   "source": [
    "# special unpacking\n",
    "values = (1,2,3,4,5)\n",
    "\n",
    "a,b,*rest = values\n",
    "print(rest)\n",
    "\n",
    "# Tuple has a count method that can count the occurrence of a value.\n",
    "print(values.count(1))"
   ]
  },
  {
   "cell_type": "code",
   "execution_count": 29,
   "id": "e4234ede-36b9-4940-ad5f-1372cb387052",
   "metadata": {},
   "outputs": [
    {
     "data": {
      "text/html": [
       "\n",
       "<h3>List</h3>\n"
      ],
      "text/plain": [
       "<IPython.core.display.HTML object>"
      ]
     },
     "metadata": {},
     "output_type": "display_data"
    }
   ],
   "source": [
    "%%html\n",
    "\n",
    "<h3>List</h3>"
   ]
  },
  {
   "cell_type": "code",
   "execution_count": 31,
   "id": "8984092d-5a00-473c-b189-c2d600bc6798",
   "metadata": {},
   "outputs": [
    {
     "name": "stdout",
     "output_type": "stream",
     "text": [
      "<class 'list'>\n"
     ]
    }
   ],
   "source": [
    "# List is a mutable object\n",
    "\n",
    "li = [1,2,3]\n",
    "print(type(li))"
   ]
  },
  {
   "cell_type": "code",
   "execution_count": 45,
   "id": "2d64d712-344f-4442-a466-8ebb47581528",
   "metadata": {},
   "outputs": [
    {
     "name": "stdout",
     "output_type": "stream",
     "text": [
      "['f', 'g', 'h', 'i']\n",
      "['e', 'f', 'g', 'h', 'i']\n",
      "['e', 'g', 'h', 'i']\n",
      "['e', 'g', 'h']\n",
      "True\n",
      "False\n"
     ]
    }
   ],
   "source": [
    "# we can append a new value to the end of list using append function\n",
    "# we can insert a new value to a specific location\n",
    "li = ['f', 'g', 'h']\n",
    "li.append('i')\n",
    "print(li)\n",
    "li.insert(0,'e')\n",
    "print(li)\n",
    "\n",
    "# Inverse operation of the insert is pop - f is gone\n",
    "li.pop(1)\n",
    "print(li)\n",
    "\n",
    "# We can remove by value\n",
    "li.remove('i')\n",
    "print(li)\n",
    "\n",
    "# Checking a value contain in list\n",
    "print('g' in li)\n",
    "print('f' in li)"
   ]
  },
  {
   "cell_type": "code",
   "execution_count": 46,
   "id": "3a0ba26d-5567-4ef3-ac5f-fbf68600bc8d",
   "metadata": {},
   "outputs": [
    {
     "name": "stdout",
     "output_type": "stream",
     "text": [
      "['e', 'g', 'h', 1, 2]\n",
      "['e', 'g', 'h', 3, 4]\n"
     ]
    }
   ],
   "source": [
    "# We can concatenate two list using + operator. Also, we can extend method.\n",
    "li2=[1,2]\n",
    "print(li+li2)\n",
    "li.extend([3,4])\n",
    "print(li)"
   ]
  },
  {
   "cell_type": "code",
   "execution_count": 48,
   "id": "e7f269db-9270-4b6a-8614-cf17ae74ccb5",
   "metadata": {},
   "outputs": [
    {
     "name": "stdout",
     "output_type": "stream",
     "text": [
      "[1, 2, 3, 4, 5]\n"
     ]
    }
   ],
   "source": [
    "# Sorting\n",
    "a =[4,5,2,3,1]\n",
    "a.sort()\n",
    "print(a)"
   ]
  },
  {
   "cell_type": "code",
   "execution_count": 57,
   "id": "d89fa3b9-de9c-4caf-8cd4-72d59a8797c0",
   "metadata": {},
   "outputs": [
    {
     "name": "stdout",
     "output_type": "stream",
     "text": [
      "['h', 'e', 'l', 'l', 'o', '!']\n",
      "['e']\n",
      "['h', 'e']\n",
      "['h', 'l', 'o']\n",
      "['!', 'o', 'l', 'l', 'e', 'h']\n"
     ]
    }
   ],
   "source": [
    "# Slicing\n",
    "\n",
    "str = \"hello!\"\n",
    "li = list(str)\n",
    "print(li)\n",
    "# 0   1   2   3   4   5 => +ive indices\n",
    "# h   e   l   l   o   !\n",
    "#-6  -5  -4  -3  -2  -1 => -ve indices\n",
    "# An important point to remember is that the start index is included and the stop index is not. Another point negative indices starts from -1.\n",
    "print(li[1:2])\n",
    "print(li[-6:-4])\n",
    "\n",
    "# Third option in slicing - Take every other element, -v for revering the list\n",
    "print(li[::2])\n",
    "print(li[::-1])\n"
   ]
  },
  {
   "cell_type": "code",
   "execution_count": 58,
   "id": "ee564bb0-9d3b-4102-9868-8835eeeadac3",
   "metadata": {},
   "outputs": [
    {
     "data": {
      "text/html": [
       "\n",
       "<h3>Dictionary</h3>\n"
      ],
      "text/plain": [
       "<IPython.core.display.HTML object>"
      ]
     },
     "metadata": {},
     "output_type": "display_data"
    }
   ],
   "source": [
    "%%html\n",
    "\n",
    "<h3>Dictionary</h3>"
   ]
  },
  {
   "cell_type": "code",
   "execution_count": 59,
   "id": "c32a9bae-576d-473b-84af-5ebac8a3583d",
   "metadata": {},
   "outputs": [],
   "source": [
    "dict = {}"
   ]
  },
  {
   "cell_type": "code",
   "execution_count": 61,
   "id": "fe1d9d6d-f08d-4b6a-8a30-be116bf16112",
   "metadata": {},
   "outputs": [
    {
     "name": "stdout",
     "output_type": "stream",
     "text": [
      "{'a': 1, 'b': 4}\n"
     ]
    }
   ],
   "source": [
    "# It has key value pair and it is mutable object\n",
    "dict ={\"a\":1,\"b\":4}\n",
    "print(dict)\n",
    "# It can have mixed data type values"
   ]
  },
  {
   "cell_type": "code",
   "execution_count": 63,
   "id": "b6171105-83f2-4ed4-8381-5550a76657ae",
   "metadata": {},
   "outputs": [
    {
     "name": "stdout",
     "output_type": "stream",
     "text": [
      "dict_keys(['a', 'b'])\n",
      "dict_values([1, 4])\n"
     ]
    }
   ],
   "source": [
    "# Keys & value\n",
    "print(dict.keys())\n",
    "print(dict.values())"
   ]
  },
  {
   "cell_type": "code",
   "execution_count": 69,
   "id": "ae4c9130-c7f9-499c-8f43-e9aae1bd2d9b",
   "metadata": {},
   "outputs": [
    {
     "name": "stdout",
     "output_type": "stream",
     "text": [
      "{'a': ['apple', 'atom'], 'b': ['bat', 'bar', 'book']}\n",
      "defaultdict(<class 'list'>, {'a': ['apple', 'atom'], 'b': ['bat', 'bar', 'book']})\n"
     ]
    }
   ],
   "source": [
    "#defaultdict\n",
    "\n",
    "words = [\"apple\", \"bat\", \"bar\", \"atom\", \"book\"]\n",
    "by_letter = {}\n",
    "for word in words:\n",
    "    letter = word[0]\n",
    "    if letter not in by_letter:\n",
    "       by_letter[letter] = [word]\n",
    "    else:\n",
    "       by_letter[letter].append(word)\n",
    "\n",
    "print(by_letter)\n",
    "\n",
    "# We can replace this by defaultdict which add default value\n",
    "\n",
    "from collections import defaultdict\n",
    "by_letter = defaultdict(list)\n",
    "for word in words:\n",
    "    letter = word[0]\n",
    "    by_letter[letter].append(word)\n",
    "print(by_letter)\n",
    "\n",
    "\n"
   ]
  },
  {
   "cell_type": "code",
   "execution_count": 4,
   "id": "84c4da52-d64e-49bc-b305-8b3cb2bda5b5",
   "metadata": {},
   "outputs": [
    {
     "data": {
      "text/html": [
       "\n",
       "<h3>Set</h3>\n"
      ],
      "text/plain": [
       "<IPython.core.display.HTML object>"
      ]
     },
     "metadata": {},
     "output_type": "display_data"
    }
   ],
   "source": [
    "%%html\n",
    "\n",
    "<h3>Set</h3>"
   ]
  },
  {
   "cell_type": "code",
   "execution_count": 8,
   "id": "1302d8e8-23d5-4064-ac6b-deafa3fd2592",
   "metadata": {},
   "outputs": [
    {
     "name": "stdout",
     "output_type": "stream",
     "text": [
      "{1, 2, 3, 4}\n"
     ]
    },
    {
     "data": {
      "text/plain": [
       "{1, 2, 6, 7, 8}"
      ]
     },
     "execution_count": 8,
     "metadata": {},
     "output_type": "execute_result"
    }
   ],
   "source": [
    "# It is an unorder collection of unique elements\n",
    "a = {1,2,2,3,4,3}\n",
    "print(a)\n",
    "\n",
    "# We can do set operations: uniio, intersection, difference , & symmetric_difference\n",
    "a = {1,2,3,4,5}\n",
    "b = {3,4,5,6,7,8}\n",
    "a.union(b)\n",
    "\n",
    "a = {1,2,3,4,5}\n",
    "b = {3,4,5,6,7,8}\n",
    "a.intersection(b)\n",
    "\n",
    "a = {1,2,3,4,5}\n",
    "b = {3,4,5,6,7,8}\n",
    "a.difference(b)\n",
    "\n",
    "a = {1,2,3,4,5}\n",
    "b = {3,4,5,6,7,8}\n",
    "a.symmetric_difference(b)\n"
   ]
  },
  {
   "cell_type": "code",
   "execution_count": 9,
   "id": "fe83bbf4-e6d4-49a9-9bd6-b23ed40a23e7",
   "metadata": {},
   "outputs": [
    {
     "data": {
      "text/html": [
       "\n",
       "<h3>Built-in Sequence Functions</h3>\n"
      ],
      "text/plain": [
       "<IPython.core.display.HTML object>"
      ]
     },
     "metadata": {},
     "output_type": "display_data"
    }
   ],
   "source": [
    "%%html\n",
    "\n",
    "<h3>Built-in Sequence Functions</h3>"
   ]
  },
  {
   "cell_type": "code",
   "execution_count": 11,
   "id": "9a4d90d1-0f8b-4d73-a4dc-f0d58dd8aa8b",
   "metadata": {},
   "outputs": [
    {
     "name": "stdout",
     "output_type": "stream",
     "text": [
      "0:5\n",
      "1:3\n",
      "2:7\n",
      "3:9\n",
      "4:8\n"
     ]
    }
   ],
   "source": [
    "# Enumerate will return (i, values) of a sequence\n",
    "seq = [5,3,7,9,8]\n",
    "for i, value in enumerate(seq):\n",
    "    print(\"{}:{}\".format(i, value))"
   ]
  },
  {
   "cell_type": "code",
   "execution_count": 14,
   "id": "0a26fd43-6ab4-4e07-ae1c-99ce453f8987",
   "metadata": {},
   "outputs": [
    {
     "name": "stdout",
     "output_type": "stream",
     "text": [
      "[('foo', 'one'), ('bar', 'two'), ('baz', 'three')]\n"
     ]
    }
   ],
   "source": [
    "# Zip   pairs up the elements of a number of lists, tupes, or other sequences to create a list of tuples\n",
    "\n",
    "seq1 = ['foo', 'bar', 'baz']\n",
    "seq2 = ['one','two', 'three']\n",
    "\n",
    "zipped = zip(seq1, seq2)\n",
    "print(list(zipped))"
   ]
  },
  {
   "cell_type": "code",
   "execution_count": 20,
   "id": "e8c16a8b-ec88-46ed-99df-f1539cf4e199",
   "metadata": {},
   "outputs": [
    {
     "name": "stdout",
     "output_type": "stream",
     "text": [
      "[('foo', 'one', False), ('bar', 'two', True)]\n",
      "0: foo,one\n",
      "1: bar,two\n",
      "2: baz,three\n"
     ]
    }
   ],
   "source": [
    "seq3 = [False, True]\n",
    "# As seq3 has only two elements other sequences have three elements.nuber of elements in the zip result is determined by the shortest sequence(in this case, seq3)\n",
    "zipped = zip(seq1, seq2, seq3) \n",
    "print(list(zipped))\n",
    "\n",
    "# Use of Enumerate with zip\n",
    "\n",
    "for index, (a,b) in enumerate(zip(seq1, seq2)):\n",
    "    print(f\"{index}: {a},{b}\")\n"
   ]
  },
  {
   "cell_type": "code",
   "execution_count": 21,
   "id": "abfd4f80-2ce7-4a8d-a18b-0be7bcc81e38",
   "metadata": {},
   "outputs": [
    {
     "data": {
      "text/html": [
       "\n",
       "<h3>List, set, dictionary comprehentions</h3>\n"
      ],
      "text/plain": [
       "<IPython.core.display.HTML object>"
      ]
     },
     "metadata": {},
     "output_type": "display_data"
    }
   ],
   "source": [
    "%%html\n",
    "\n",
    "<h3>List, set, dictionary comprehentions</h3>"
   ]
  },
  {
   "cell_type": "code",
   "execution_count": 26,
   "id": "ea0635f2-a25e-4c05-813f-9f51d1df0575",
   "metadata": {},
   "outputs": [
    {
     "name": "stdout",
     "output_type": "stream",
     "text": [
      "['A', 'AS', 'BAT', 'CAR', 'DOVE', 'PYTHON']\n",
      "['BAT', 'CAR', 'DOVE', 'PYTHON']\n"
     ]
    }
   ],
   "source": [
    "# List comprehension\n",
    "#li = [expr for value in seq if condition]\n",
    "\n",
    "strings= [\"a\", \"as\", \"bat\", \"car\", \"dove\", \"python\"]\n",
    "li = [x.upper() for x in strings]\n",
    "print(li)\n",
    "\n",
    "li = [x.upper() for x in strings if len(x) > 2]\n",
    "print(li)"
   ]
  },
  {
   "cell_type": "code",
   "execution_count": 30,
   "id": "abbad7df-ff1c-42d5-8c07-f691a0576a6b",
   "metadata": {},
   "outputs": [
    {
     "name": "stdout",
     "output_type": "stream",
     "text": [
      "{0: 'a', 1: 'as', 2: 'bat', 3: 'car', 4: 'dove', 5: 'python'}\n"
     ]
    }
   ],
   "source": [
    "# Dictionary comprehension\n",
    "# dict ={key-expr: value-expr for value in collection if condition}\n",
    "strings= [\"a\", \"as\", \"bat\", \"car\", \"dove\", \"python\"]\n",
    "dict  = {index:value for index, value in enumerate(strings)}\n",
    "print(dict)"
   ]
  },
  {
   "cell_type": "code",
   "execution_count": 31,
   "id": "1e3a8787-708c-4041-a2cf-fef73c3db78a",
   "metadata": {},
   "outputs": [],
   "source": [
    "# Set comprehension\n",
    "#set = {expr for value in collection if condition}"
   ]
  },
  {
   "cell_type": "code",
   "execution_count": 33,
   "id": "724ba081-08e2-4df1-a667-97289cf96bd4",
   "metadata": {},
   "outputs": [
    {
     "name": "stdout",
     "output_type": "stream",
     "text": [
      "[1, 2, 3, 4, 5, 6, 7, 8, 9]\n"
     ]
    }
   ],
   "source": [
    "# Nested list comprehension\n",
    "some_tuples = [(1,2,3), (4,5,6),(7,8,9)]\n",
    "# We can flatten this by nested list comprehension\n",
    "flattened = [x for tup in some_tuples for x in tup]\n",
    "print(flattened)"
   ]
  },
  {
   "cell_type": "code",
   "execution_count": 36,
   "id": "33b7508e-2403-4bdc-a755-dabb87b925f8",
   "metadata": {},
   "outputs": [
    {
     "data": {
      "text/html": [
       "\n",
       "<h3>Functions</h3>\n"
      ],
      "text/plain": [
       "<IPython.core.display.HTML object>"
      ]
     },
     "metadata": {},
     "output_type": "display_data"
    }
   ],
   "source": [
    "%%html\n",
    "\n",
    "<h3>Functions</h3>"
   ]
  },
  {
   "cell_type": "code",
   "execution_count": 2,
   "id": "31eb0504-5bf3-4414-8e9d-64546220a8bd",
   "metadata": {},
   "outputs": [
    {
     "name": "stdout",
     "output_type": "stream",
     "text": [
      "4\n"
     ]
    }
   ],
   "source": [
    "# python function can return multiple values\n",
    "# return a,b,c\n",
    "\n",
    "# Anonymus lambda function\n",
    "short_func = lambda x:x*2\n",
    "print(short_func(2))"
   ]
  },
  {
   "cell_type": "code",
   "execution_count": 10,
   "id": "f7bce673-30d8-41f5-9a7e-b21ac78af7c1",
   "metadata": {},
   "outputs": [
    {
     "name": "stdout",
     "output_type": "stream",
     "text": [
      "Generating\n",
      "1\n",
      "4\n",
      "9\n",
      "16\n",
      "25\n",
      "36\n",
      "49\n",
      "64\n",
      "81\n",
      "100\n"
     ]
    }
   ],
   "source": [
    "#A generator is a convenient way similar to writing a normal function, to construct a new iterable objects. \n",
    "#Wheras normal functions execute and return a single result at a time, \n",
    "#generator can return a sequence of multiple values of pausing and resuming execution each time the generatoris used. We use yield keyword instead of return. It use less memory\n",
    "\n",
    "def squares(n=10):\n",
    "    print(\"Generating\")\n",
    "    for i in range(1, n+1):\n",
    "        yield i**2\n",
    "\n",
    "gen = squares()\n",
    "gen\n",
    "for x in gen:\n",
    "    print(x)\n",
    "    "
   ]
  },
  {
   "cell_type": "code",
   "execution_count": null,
   "id": "fefd5de9-8fbf-4b83-bd9d-9d066a8ac055",
   "metadata": {},
   "outputs": [],
   "source": [
    "# need to learn more about Generator"
   ]
  },
  {
   "cell_type": "code",
   "execution_count": 11,
   "id": "f7077b56-a448-4057-b6fb-e04a8aa2f35e",
   "metadata": {},
   "outputs": [
    {
     "data": {
      "text/html": [
       "\n",
       "<h2>Chapter 4  - Numpy basics: Arrays and Vectorized Computation</h2>\n"
      ],
      "text/plain": [
       "<IPython.core.display.HTML object>"
      ]
     },
     "metadata": {},
     "output_type": "display_data"
    }
   ],
   "source": [
    "%%html\n",
    "\n",
    "<h2>Chapter 4  - Numpy basics: Arrays and Vectorized Computation</h2>"
   ]
  },
  {
   "cell_type": "code",
   "execution_count": 89,
   "id": "4a99b116-49f4-4677-b20a-ef2ead9b81bf",
   "metadata": {},
   "outputs": [
    {
     "data": {
      "text/plain": [
       "array([ 0,  2,  4,  6,  8, 10, 12, 14, 16, 18])"
      ]
     },
     "execution_count": 89,
     "metadata": {},
     "output_type": "execute_result"
    }
   ],
   "source": [
    "import numpy as np\n",
    "my_arr = np.arange(10)\n",
    "\n",
    "# It takes only less memory comapred to built-in python sequence\n",
    "# Numpy is faster than regular python code because it's C-based algorithm -> numpy-based algorithm are generally 10 to 100 times faster than their python counter parts.\n",
    "# Numpy operation perform complex computation on entire array without the need for python for loops, which can be slow for large sequences.\n",
    "my_arr * 2"
   ]
  },
  {
   "cell_type": "code",
   "execution_count": 18,
   "id": "96143ccb-31ef-44b4-ada3-4126d9c39f5c",
   "metadata": {},
   "outputs": [
    {
     "data": {
      "text/html": [
       "\n",
       "<h3>The numpy ndarray: a multi dimennsional array object</h3>\n"
      ],
      "text/plain": [
       "<IPython.core.display.HTML object>"
      ]
     },
     "metadata": {},
     "output_type": "display_data"
    }
   ],
   "source": [
    "%%html\n",
    "\n",
    "<h3>The numpy ndarray: a multidimensional array object</h3>"
   ]
  },
  {
   "cell_type": "code",
   "execution_count": 19,
   "id": "29492fd0-92b0-4cfb-aa76-83627c4b8160",
   "metadata": {},
   "outputs": [],
   "source": [
    "# List to np array using np.array()\n",
    "data = np.array([[1.5,-0.1,3],[0,-3,6.5]])"
   ]
  },
  {
   "cell_type": "code",
   "execution_count": 20,
   "id": "da06e188-e267-4b41-bbd8-77538973c5ce",
   "metadata": {},
   "outputs": [
    {
     "data": {
      "text/plain": [
       "array([[ 1.5, -0.1,  3. ],\n",
       "       [ 0. , -3. ,  6.5]])"
      ]
     },
     "execution_count": 20,
     "metadata": {},
     "output_type": "execute_result"
    }
   ],
   "source": [
    "data"
   ]
  },
  {
   "cell_type": "code",
   "execution_count": 36,
   "id": "d53c7609-a44d-44f5-9a34-1b9f0c38ec9d",
   "metadata": {},
   "outputs": [
    {
     "name": "stderr",
     "output_type": "stream",
     "text": [
      "/tmp/ipykernel_140/1500792984.py:4: RuntimeWarning: divide by zero encountered in divide\n",
      "  1/data\n"
     ]
    },
    {
     "data": {
      "text/plain": [
       "array([[ True,  True,  True],\n",
       "       [ True,  True,  True]])"
      ]
     },
     "execution_count": 36,
     "metadata": {},
     "output_type": "execute_result"
    }
   ],
   "source": [
    "# Mathematical operations\n",
    "data*10\n",
    "data+data\n",
    "1/data\n",
    "data**2\n",
    "data.shape\n",
    "data.dtype\n",
    "\n",
    "# logical operation\n",
    "data > data\n",
    "data == data"
   ]
  },
  {
   "cell_type": "code",
   "execution_count": 28,
   "id": "7c91df87-08cb-4735-8cda-ea63ed34f339",
   "metadata": {},
   "outputs": [
    {
     "data": {
      "text/plain": [
       "array([0., 0., 0., 0., 0., 0., 0., 0., 0., 0.])"
      ]
     },
     "execution_count": 28,
     "metadata": {},
     "output_type": "execute_result"
    }
   ],
   "source": [
    "# Creating an empty array with zeros and Ones\n",
    "# one dimension\n",
    "np.zeros(10)"
   ]
  },
  {
   "cell_type": "code",
   "execution_count": 30,
   "id": "448ddc44-6d31-43e4-b9fc-4ddf56811a8b",
   "metadata": {},
   "outputs": [
    {
     "data": {
      "text/plain": [
       "array([[0., 0.],\n",
       "       [0., 0.],\n",
       "       [0., 0.]])"
      ]
     },
     "execution_count": 30,
     "metadata": {},
     "output_type": "execute_result"
    }
   ],
   "source": [
    "# Higher dimension\n",
    "np.zeros((3,2))"
   ]
  },
  {
   "cell_type": "code",
   "execution_count": 31,
   "id": "cc589406-6d9a-49b0-a1b5-59297d5bf44c",
   "metadata": {},
   "outputs": [
    {
     "data": {
      "text/plain": [
       "array([1., 1., 1., 1., 1., 1., 1., 1., 1., 1.])"
      ]
     },
     "execution_count": 31,
     "metadata": {},
     "output_type": "execute_result"
    }
   ],
   "source": [
    "np.ones(10)"
   ]
  },
  {
   "cell_type": "code",
   "execution_count": 32,
   "id": "ce0b95d7-5d8d-487b-8118-dcf8844d4bae",
   "metadata": {},
   "outputs": [
    {
     "data": {
      "text/plain": [
       "array([0, 1, 2, 3, 4, 5, 6, 7, 8, 9])"
      ]
     },
     "execution_count": 32,
     "metadata": {},
     "output_type": "execute_result"
    }
   ],
   "source": [
    "#There is an empty function, but the value can contain non zero garbage values- np.empty()\n",
    "# np.arange is similar to python range function \n",
    "np.arange(10)"
   ]
  },
  {
   "cell_type": "code",
   "execution_count": null,
   "id": "65bb4169-3f26-47cf-b7e4-565860ae2c5c",
   "metadata": {},
   "outputs": [],
   "source": [
    "#Numpy data types: int, float, complex, bool, object(python object type- value can be python object), string_, unicode_"
   ]
  },
  {
   "cell_type": "code",
   "execution_count": 37,
   "id": "6d50a69c-2fc2-4b65-a880-d46b579e872c",
   "metadata": {},
   "outputs": [
    {
     "data": {
      "text/html": [
       "\n",
       "<h3>Basic indexing & slicing</h3>\n"
      ],
      "text/plain": [
       "<IPython.core.display.HTML object>"
      ]
     },
     "metadata": {},
     "output_type": "display_data"
    }
   ],
   "source": [
    "%%html\n",
    "\n",
    "<h3>Basic indexing & slicing</h3>"
   ]
  },
  {
   "cell_type": "code",
   "execution_count": 42,
   "id": "4021083c-1ff6-46e9-b3a9-3b6981674886",
   "metadata": {},
   "outputs": [
    {
     "data": {
      "text/plain": [
       "array([0, 1, 2, 3, 4, 5, 6, 7, 8, 9])"
      ]
     },
     "execution_count": 42,
     "metadata": {},
     "output_type": "execute_result"
    }
   ],
   "source": [
    "arr = np.arange(10)\n",
    "arr"
   ]
  },
  {
   "cell_type": "code",
   "execution_count": 57,
   "id": "d0a9c6d4-1e0e-4828-8960-2215b0fda3eb",
   "metadata": {},
   "outputs": [
    {
     "data": {
      "text/plain": [
       "array([4, 5, 6])"
      ]
     },
     "execution_count": 57,
     "metadata": {},
     "output_type": "execute_result"
    }
   ],
   "source": [
    "# The key distinction from python list is that array slices are views on the original array. so modification on the view will be reflected on the original array\n",
    "arr[5:8] = 10\n",
    "arr\n",
    "arr = np.arange(10)\n",
    "# same as list, for the +ve & -ve indexing, start index is inclusive whereas end index is not inclusive:\n",
    "arr[5:8] \n",
    "\n",
    "arr[-6:-3]"
   ]
  },
  {
   "cell_type": "code",
   "execution_count": 79,
   "id": "c991240a-fa0d-4ac0-b9c3-13eb53239665",
   "metadata": {},
   "outputs": [
    {
     "data": {
      "text/plain": [
       "array([[0, 1, 2],\n",
       "       [3, 4, 5],\n",
       "       [6, 7, 8]])"
      ]
     },
     "execution_count": 79,
     "metadata": {},
     "output_type": "execute_result"
    }
   ],
   "source": [
    "# For tow dimenaional array\n",
    "\n",
    "#np_array[row, column]\n",
    "arr = np.arange(9)\n",
    "arr = np.reshape(arr, (3,-1))\n",
    "arr"
   ]
  },
  {
   "cell_type": "code",
   "execution_count": 84,
   "id": "34471287-269a-4d2b-94bd-2aec67a681b6",
   "metadata": {},
   "outputs": [
    {
     "data": {
      "text/plain": [
       "array([[0],\n",
       "       [3]])"
      ]
     },
     "execution_count": 84,
     "metadata": {},
     "output_type": "execute_result"
    }
   ],
   "source": [
    "arr[2,2] # 8\n",
    "arr[0:2,0:1]"
   ]
  },
  {
   "cell_type": "code",
   "execution_count": 88,
   "id": "754e9432-4c1c-4687-89c6-79bdba35af53",
   "metadata": {},
   "outputs": [
    {
     "data": {
      "text/plain": [
       "array([[0, 1],\n",
       "       [3, 4],\n",
       "       [6, 7]])"
      ]
     },
     "execution_count": 88,
     "metadata": {},
     "output_type": "execute_result"
    }
   ],
   "source": [
    "arr[:,:2]"
   ]
  },
  {
   "cell_type": "code",
   "execution_count": 91,
   "id": "c1e5e4c3-5b40-4373-bbe6-2d38725e071a",
   "metadata": {},
   "outputs": [
    {
     "data": {
      "text/html": [
       "\n",
       "<img src='images/slicing.png', width=300/>\n"
      ],
      "text/plain": [
       "<IPython.core.display.HTML object>"
      ]
     },
     "metadata": {},
     "output_type": "display_data"
    }
   ],
   "source": [
    "%%html\n",
    "\n",
    "<img src='images/slicing.png', width=300/>"
   ]
  },
  {
   "cell_type": "code",
   "execution_count": 92,
   "id": "6f539846-6605-4399-a628-77eec955b820",
   "metadata": {},
   "outputs": [
    {
     "data": {
      "text/html": [
       "<h3>Fancy indexing</h3>\n"
      ],
      "text/plain": [
       "<IPython.core.display.HTML object>"
      ]
     },
     "metadata": {},
     "output_type": "display_data"
    }
   ],
   "source": [
    "%%html\n",
    "<h3>Fancy indexing</h3>"
   ]
  },
  {
   "cell_type": "code",
   "execution_count": 94,
   "id": "48336c57-772c-4236-93df-4e6c47c9fc79",
   "metadata": {},
   "outputs": [
    {
     "data": {
      "text/plain": [
       "array([[0., 0., 0., 0.],\n",
       "       [0., 0., 0., 0.],\n",
       "       [0., 0., 0., 0.],\n",
       "       [0., 0., 0., 0.],\n",
       "       [0., 0., 0., 0.],\n",
       "       [0., 0., 0., 0.],\n",
       "       [0., 0., 0., 0.],\n",
       "       [0., 0., 0., 0.]])"
      ]
     },
     "execution_count": 94,
     "metadata": {},
     "output_type": "execute_result"
    }
   ],
   "source": [
    "arr = np.zeros((8,4))\n",
    "arr"
   ]
  },
  {
   "cell_type": "code",
   "execution_count": 95,
   "id": "383adf66-2e43-4ecf-a5d0-2e4c78a9ca18",
   "metadata": {},
   "outputs": [],
   "source": [
    "for i in range(8):\n",
    "    arr[i] = i"
   ]
  },
  {
   "cell_type": "code",
   "execution_count": 96,
   "id": "0b068488-7a4e-45a5-b983-4493b9f2df69",
   "metadata": {},
   "outputs": [
    {
     "data": {
      "text/plain": [
       "array([[0., 0., 0., 0.],\n",
       "       [1., 1., 1., 1.],\n",
       "       [2., 2., 2., 2.],\n",
       "       [3., 3., 3., 3.],\n",
       "       [4., 4., 4., 4.],\n",
       "       [5., 5., 5., 5.],\n",
       "       [6., 6., 6., 6.],\n",
       "       [7., 7., 7., 7.]])"
      ]
     },
     "execution_count": 96,
     "metadata": {},
     "output_type": "execute_result"
    }
   ],
   "source": [
    "arr"
   ]
  },
  {
   "cell_type": "code",
   "execution_count": 97,
   "id": "4f3b3f39-e30d-466d-b683-3b19830e0b74",
   "metadata": {},
   "outputs": [
    {
     "data": {
      "text/plain": [
       "array([[4., 4., 4., 4.],\n",
       "       [3., 3., 3., 3.],\n",
       "       [0., 0., 0., 0.],\n",
       "       [6., 6., 6., 6.]])"
      ]
     },
     "execution_count": 97,
     "metadata": {},
     "output_type": "execute_result"
    }
   ],
   "source": [
    "arr[[4,3,0,6]] # this gives the rows in the specific order mentioned"
   ]
  },
  {
   "cell_type": "code",
   "execution_count": 99,
   "id": "13da6592-8b4f-4109-afda-c039ad961311",
   "metadata": {},
   "outputs": [
    {
     "data": {
      "text/plain": [
       "array([[7., 7., 7., 7.],\n",
       "       [5., 5., 5., 5.],\n",
       "       [3., 3., 3., 3.]])"
      ]
     },
     "execution_count": 99,
     "metadata": {},
     "output_type": "execute_result"
    }
   ],
   "source": [
    "# We can use -ve indices to select the rows from the end\n",
    "arr[[-1,-3,-5]]"
   ]
  },
  {
   "cell_type": "code",
   "execution_count": 102,
   "id": "b9903abf-be65-4290-af9b-9d026ed79d28",
   "metadata": {},
   "outputs": [
    {
     "data": {
      "text/plain": [
       "array([1., 2., 3.])"
      ]
     },
     "execution_count": 102,
     "metadata": {},
     "output_type": "execute_result"
    }
   ],
   "source": [
    "# We can use rows and columns\n",
    "arr[[1,2,3],[0,3,1,]]"
   ]
  },
  {
   "cell_type": "code",
   "execution_count": 104,
   "id": "253563af-576e-445d-8de5-5237bca52f86",
   "metadata": {},
   "outputs": [
    {
     "data": {
      "text/plain": [
       "array([[0., 1., 2., 3., 4., 5., 6., 7.],\n",
       "       [0., 1., 2., 3., 4., 5., 6., 7.],\n",
       "       [0., 1., 2., 3., 4., 5., 6., 7.],\n",
       "       [0., 1., 2., 3., 4., 5., 6., 7.]])"
      ]
     },
     "execution_count": 104,
     "metadata": {},
     "output_type": "execute_result"
    }
   ],
   "source": [
    "#Transposing the array\n",
    "arr.T"
   ]
  },
  {
   "cell_type": "code",
   "execution_count": 105,
   "id": "8ca2594b-93f2-4820-9da9-3f4a409b40f7",
   "metadata": {},
   "outputs": [],
   "source": [
    "# inner matrix produc is using np.dot and other way to do matrix multiplcation is using @ -> arr.T @ arr"
   ]
  },
  {
   "cell_type": "code",
   "execution_count": 107,
   "id": "3096cd9d-6fb2-4d97-91b1-abf0ac2f1f87",
   "metadata": {},
   "outputs": [
    {
     "data": {
      "text/plain": [
       "array([[-0.56151294, -0.7172941 , -0.17567785,  0.87164726],\n",
       "       [-1.80189301, -0.02615516,  0.39550439, -1.87444707],\n",
       "       [ 1.44679248, -1.40390773,  2.30413065,  0.10003334],\n",
       "       [ 1.32845772,  0.45019542,  1.4233421 , -0.78065266]])"
      ]
     },
     "execution_count": 107,
     "metadata": {},
     "output_type": "execute_result"
    }
   ],
   "source": [
    "# Pseudo random number generation\n",
    "\n",
    "samples = np.random.standard_normal(size =(4,4))\n",
    "samples"
   ]
  },
  {
   "cell_type": "code",
   "execution_count": 108,
   "id": "3d5b187d-57a3-4333-8e20-317f461e4384",
   "metadata": {},
   "outputs": [
    {
     "data": {
      "text/html": [
       "<h3>Universal functions: Fast Element-wise Array functions</h3>\n"
      ],
      "text/plain": [
       "<IPython.core.display.HTML object>"
      ]
     },
     "metadata": {},
     "output_type": "display_data"
    }
   ],
   "source": [
    "%%html\n",
    "<h3>Universal functions: Fast Element-wise Array functions</h3>"
   ]
  },
  {
   "cell_type": "code",
   "execution_count": 112,
   "id": "31b63913-dec4-49ba-9357-10809f3d551d",
   "metadata": {},
   "outputs": [
    {
     "name": "stdout",
     "output_type": "stream",
     "text": [
      "[[0. 0. 0. 0.]\n",
      " [1. 1. 1. 1.]\n",
      " [2. 2. 2. 2.]\n",
      " [3. 3. 3. 3.]\n",
      " [4. 4. 4. 4.]\n",
      " [5. 5. 5. 5.]\n",
      " [6. 6. 6. 6.]\n",
      " [7. 7. 7. 7.]]\n"
     ]
    },
    {
     "data": {
      "text/plain": [
       "array([[1., 1., 1., 1.],\n",
       "       [2., 2., 2., 2.],\n",
       "       [3., 3., 3., 3.],\n",
       "       [4., 4., 4., 4.],\n",
       "       [5., 5., 5., 5.],\n",
       "       [6., 6., 6., 6.],\n",
       "       [7., 7., 7., 7.],\n",
       "       [8., 8., 8., 8.]])"
      ]
     },
     "execution_count": 112,
     "metadata": {},
     "output_type": "execute_result"
    }
   ],
   "source": [
    "\n",
    "print(arr)\n",
    "np.add(arr, 1)"
   ]
  },
  {
   "cell_type": "code",
   "execution_count": 14,
   "id": "95ef6e07-d669-4cbf-b9b7-dab14c1d5894",
   "metadata": {},
   "outputs": [
    {
     "data": {
      "text/html": [
       "Some universal functions\n",
       "<img src='images/ufunc.png', width=500/>\n"
      ],
      "text/plain": [
       "<IPython.core.display.HTML object>"
      ]
     },
     "metadata": {},
     "output_type": "display_data"
    }
   ],
   "source": [
    "%%html\n",
    "Some universal functions\n",
    "<img src='images/ufunc.png', width=500/>"
   ]
  },
  {
   "cell_type": "code",
   "execution_count": 1,
   "id": "4bc10b1f-20c6-4148-8125-f0487d051248",
   "metadata": {},
   "outputs": [
    {
     "data": {
      "text/html": [
       "<h3>Expressing conditional logic as array operations</h3>\n"
      ],
      "text/plain": [
       "<IPython.core.display.HTML object>"
      ]
     },
     "metadata": {},
     "output_type": "display_data"
    }
   ],
   "source": [
    "%%html\n",
    "<h3>Expressing conditional logic as array operations</h3>"
   ]
  },
  {
   "cell_type": "code",
   "execution_count": 7,
   "id": "ea350870-c6c6-4b78-9840-10622f4e2102",
   "metadata": {},
   "outputs": [
    {
     "data": {
      "text/plain": [
       "array([[-1.42382504,  1.26372846, -0.87066174, -0.25917323],\n",
       "       [-0.07534331, -0.74088465, -1.3677927 ,  0.6488928 ],\n",
       "       [ 0.36105811, -1.95286306,  2.34740965,  0.96849691],\n",
       "       [-0.75938718,  0.90219827, -0.46695317, -0.06068952]])"
      ]
     },
     "execution_count": 7,
     "metadata": {},
     "output_type": "execute_result"
    }
   ],
   "source": [
    "import numpy as np\n",
    "rng = np.random.default_rng(seed=12345)\n",
    "arr = rng.standard_normal((4,4))\n",
    "arr"
   ]
  },
  {
   "cell_type": "code",
   "execution_count": 8,
   "id": "9fc344cb-5b91-44a6-96a2-ea5884eb79fc",
   "metadata": {},
   "outputs": [
    {
     "data": {
      "text/plain": [
       "array([[False,  True, False, False],\n",
       "       [False, False, False,  True],\n",
       "       [ True, False,  True,  True],\n",
       "       [False,  True, False, False]])"
      ]
     },
     "execution_count": 8,
     "metadata": {},
     "output_type": "execute_result"
    }
   ],
   "source": [
    "arr > 0"
   ]
  },
  {
   "cell_type": "code",
   "execution_count": 12,
   "id": "6ce49b3c-a438-4902-b878-f57c8a271305",
   "metadata": {},
   "outputs": [
    {
     "data": {
      "text/plain": [
       "array([[-2,  2, -2, -2],\n",
       "       [-2, -2, -2,  2],\n",
       "       [ 2, -2,  2,  2],\n",
       "       [-2,  2, -2, -2]])"
      ]
     },
     "execution_count": 12,
     "metadata": {},
     "output_type": "execute_result"
    }
   ],
   "source": [
    "# The second and third term is scalar values which replaces the original array with scalar values depends on the condition\n",
    "np.where(arr>0, 2, -2)"
   ]
  },
  {
   "cell_type": "code",
   "execution_count": 13,
   "id": "66c813e7-f090-48d5-8d27-fa4744143689",
   "metadata": {},
   "outputs": [
    {
     "data": {
      "text/plain": [
       "array([1.1, 1.2, 2.3, 2.4, 1.5])"
      ]
     },
     "execution_count": 13,
     "metadata": {},
     "output_type": "execute_result"
    }
   ],
   "source": [
    "# We can also uses np.where to get the values of any of the two arrays depends on the condition\n",
    "\n",
    "xarr = np.array([1.1,1.2,1.3,1.4,1.5])\n",
    "yarr = np.array([2.1,2.2,2.3,2.4,2.5])\n",
    "cond = np.array([True, True, False, False, True])\n",
    "np.where(cond, xarr,yarr)"
   ]
  },
  {
   "cell_type": "code",
   "execution_count": 15,
   "id": "f40f68fc-4082-4d61-baad-82291a811ed9",
   "metadata": {},
   "outputs": [
    {
     "data": {
      "text/html": [
       "<h3>Mathematical & statistical methods</h3>\n"
      ],
      "text/plain": [
       "<IPython.core.display.HTML object>"
      ]
     },
     "metadata": {},
     "output_type": "display_data"
    }
   ],
   "source": [
    "%%html\n",
    "<h3>Mathematical & statistical methods</h3>"
   ]
  },
  {
   "cell_type": "code",
   "execution_count": 30,
   "id": "5a35eda8-ff94-424f-bcb2-23d7ff823910",
   "metadata": {},
   "outputs": [],
   "source": [
    "arr = rng.standard_normal((5,4))"
   ]
  },
  {
   "cell_type": "code",
   "execution_count": 18,
   "id": "5e7409c9-4c91-4317-bcef-45913b12aa04",
   "metadata": {},
   "outputs": [
    {
     "data": {
      "text/plain": [
       "0.17933634979615845"
      ]
     },
     "execution_count": 18,
     "metadata": {},
     "output_type": "execute_result"
    }
   ],
   "source": [
    "arr.mean()\n",
    "#or using universal function\n",
    "np.mean(arr)"
   ]
  },
  {
   "cell_type": "code",
   "execution_count": 19,
   "id": "7e2eb186-e765-4371-8bf1-f9dad1002414",
   "metadata": {},
   "outputs": [
    {
     "data": {
      "text/plain": [
       "3.586726995923169"
      ]
     },
     "execution_count": 19,
     "metadata": {},
     "output_type": "execute_result"
    }
   ],
   "source": [
    "arr.sum()"
   ]
  },
  {
   "cell_type": "code",
   "execution_count": 20,
   "id": "a7a87e15-51f5-4e10-88f5-9837d6292c7d",
   "metadata": {},
   "outputs": [
    {
     "data": {
      "text/plain": [
       "array([ 2.71870476,  0.30188842, -0.49975489,  1.0658887 ])"
      ]
     },
     "execution_count": 20,
     "metadata": {},
     "output_type": "execute_result"
    }
   ],
   "source": [
    "# sum along the rows\n",
    "arr.sum(axis=0)"
   ]
  },
  {
   "cell_type": "code",
   "execution_count": 21,
   "id": "5b233f70-9e3b-43e3-a882-61f7714bc8f6",
   "metadata": {},
   "outputs": [
    {
     "data": {
      "text/plain": [
       "array([ 1.50701272,  0.30393615, -1.13399399,  5.9488939 , -3.03912178])"
      ]
     },
     "execution_count": 21,
     "metadata": {},
     "output_type": "execute_result"
    }
   ],
   "source": [
    "# sum slong the columns\n",
    "arr.sum(axis=1)"
   ]
  },
  {
   "cell_type": "code",
   "execution_count": 22,
   "id": "468ba1a7-1c20-4f49-b573-06e76a27b08b",
   "metadata": {},
   "outputs": [],
   "source": [
    "#There are other array statistical methods\n",
    "#std, var, min, max,argmin,argmax,cumsum,cumprod"
   ]
  },
  {
   "cell_type": "code",
   "execution_count": 32,
   "id": "2b1469c1-d2a7-4ea5-98ae-b86299c7db78",
   "metadata": {},
   "outputs": [],
   "source": [
    "# axis =0  means operation along the rows. It means that if we have 4 columns & n rows. we do the operation along the rows in each column & the result will have 4 items\n",
    "# axis = 1 means operation along the columns. It means that if we have 4 colunms & n rows. we do the operation along the each column in each row & the result will have n items"
   ]
  },
  {
   "cell_type": "code",
   "execution_count": 33,
   "id": "cf58dec1-6c0d-4743-b560-01d48ef10724",
   "metadata": {},
   "outputs": [
    {
     "name": "stdout",
     "output_type": "stream",
     "text": [
      "[[-0.35947965 -0.74864398 -0.96547891  0.36003466]\n",
      " [-0.24455253 -1.99585661 -0.15524762  1.06383087]\n",
      " [-0.27517157 -1.85333593 -0.12434193  0.78497452]\n",
      " [ 0.2019986  -0.42807444  1.8482889   1.89995289]\n",
      " [-0.09842503  0.81344544  0.39249439  0.7814429 ]]\n"
     ]
    },
    {
     "data": {
      "text/plain": [
       "array([[-0.35947965, -1.99585661, -0.96547891,  0.36003466],\n",
       "       [-0.27517157, -1.85333593, -0.15524762,  0.7814429 ],\n",
       "       [-0.24455253, -0.74864398, -0.12434193,  0.78497452],\n",
       "       [-0.09842503, -0.42807444,  0.39249439,  1.06383087],\n",
       "       [ 0.2019986 ,  0.81344544,  1.8482889 ,  1.89995289]])"
      ]
     },
     "execution_count": 33,
     "metadata": {},
     "output_type": "execute_result"
    }
   ],
   "source": [
    "# Sorting\n",
    "arr = rng.standard_normal((5,4))\n",
    "print(arr)\n",
    "arr.sort(axis=0) # soring along the rows\n",
    "arr\n",
    "# We can also use universal function np.sort(arr)"
   ]
  },
  {
   "cell_type": "code",
   "execution_count": 34,
   "id": "80a0f3f1-0770-411d-baed-16cc881ae8b8",
   "metadata": {},
   "outputs": [
    {
     "data": {
      "text/html": [
       "<h3>File input and output with arrays</h3>\n"
      ],
      "text/plain": [
       "<IPython.core.display.HTML object>"
      ]
     },
     "metadata": {},
     "output_type": "display_data"
    }
   ],
   "source": [
    "%%html\n",
    "<h3>File input and output with arrays</h3>"
   ]
  },
  {
   "cell_type": "code",
   "execution_count": 37,
   "id": "8e5d0f61-c7d5-4d4f-af74-8fcf3560411b",
   "metadata": {},
   "outputs": [],
   "source": [
    "#np.load(), np.save(\"name\", arr) => saved in .npy format\n",
    "# uncompresses saving np.savez(\"name.npz\", arr), you can also save multiple arrays np.savez(\"name.npz\", a=arr1, b=arr2) and we can get dictonary type object upon arr = np.load(\"name.npz\")\n",
    "# arr['a']"
   ]
  },
  {
   "cell_type": "code",
   "execution_count": 47,
   "id": "6bff138d-d11f-4f8a-a29c-b3e0a8591aa7",
   "metadata": {},
   "outputs": [
    {
     "data": {
      "text/html": [
       "<h3>Linear Algebra</h3>\n",
       "Matrix multiplication - dot product & element-wise multiplication\n",
       "<br/>\n",
       "<br/>\n",
       "<img src='images/dot_element_wise.png', width=500/>\n"
      ],
      "text/plain": [
       "<IPython.core.display.HTML object>"
      ]
     },
     "metadata": {},
     "output_type": "display_data"
    }
   ],
   "source": [
    "%%html\n",
    "<h3>Linear Algebra</h3>\n",
    "Matrix multiplication - dot product & element-wise multiplication\n",
    "<br/>\n",
    "<br/>\n",
    "<img src='images/dot_element_wise.png', width=500/>"
   ]
  },
  {
   "cell_type": "code",
   "execution_count": 53,
   "id": "ddf5cd5f-9db9-4f8b-ae16-0176f6b3545a",
   "metadata": {},
   "outputs": [
    {
     "data": {
      "text/plain": [
       "array([[ 28.,  64.],\n",
       "       [ 67., 181.]])"
      ]
     },
     "execution_count": 53,
     "metadata": {},
     "output_type": "execute_result"
    }
   ],
   "source": [
    "# dot product\n",
    "x = np.array([[1.,2.,3.],[4.,5.,6.]])\n",
    "y = np.array([[6.,23.],[-1,7],[8,9]])\n",
    "np.dot(x,y)"
   ]
  },
  {
   "cell_type": "code",
   "execution_count": 54,
   "id": "a5d81e27-8187-4a71-a223-158067119391",
   "metadata": {},
   "outputs": [
    {
     "data": {
      "text/plain": [
       "array([[ 28.,  64.],\n",
       "       [ 67., 181.]])"
      ]
     },
     "execution_count": 54,
     "metadata": {},
     "output_type": "execute_result"
    }
   ],
   "source": [
    "# np.matml & @ are same -> element-wise matrix multiplication\n",
    "np.matmul(x,y)"
   ]
  },
  {
   "cell_type": "code",
   "execution_count": 55,
   "id": "2d89e29b-105a-471b-b85a-a83412764a21",
   "metadata": {},
   "outputs": [
    {
     "data": {
      "text/plain": [
       "array([[ 28.,  64.],\n",
       "       [ 67., 181.]])"
      ]
     },
     "execution_count": 55,
     "metadata": {},
     "output_type": "execute_result"
    }
   ],
   "source": [
    "x@y"
   ]
  }
 ],
 "metadata": {
  "kernelspec": {
   "display_name": "Python 3 (ipykernel)",
   "language": "python",
   "name": "python3"
  },
  "language_info": {
   "codemirror_mode": {
    "name": "ipython",
    "version": 3
   },
   "file_extension": ".py",
   "mimetype": "text/x-python",
   "name": "python",
   "nbconvert_exporter": "python",
   "pygments_lexer": "ipython3",
   "version": "3.11.6"
  }
 },
 "nbformat": 4,
 "nbformat_minor": 5
}
