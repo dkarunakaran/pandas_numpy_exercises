{
 "cells": [
  {
   "cell_type": "code",
   "execution_count": 1,
   "id": "f3643c2e-98d9-429d-b407-447a76f4a6b1",
   "metadata": {},
   "outputs": [
    {
     "data": {
      "text/html": [
       "<h2>Chapter 11 - Time series</h2>\n",
       "Code examples are taken from <a href=\"https://github.com/wesm/pydata-book/blob/3rd-edition/ch11.ipynb\">https://github.com/wesm/pydata-book/blob/3rd-edition/ch11.ipynb</a>\n"
      ],
      "text/plain": [
       "<IPython.core.display.HTML object>"
      ]
     },
     "metadata": {},
     "output_type": "display_data"
    }
   ],
   "source": [
    "%%html\n",
    "<h2>Chapter 11 - Time series</h2>\n",
    "Code examples are taken from <a href=\"https://github.com/wesm/pydata-book/blob/3rd-edition/ch11.ipynb\">https://github.com/wesm/pydata-book/blob/3rd-edition/ch11.ipynb</a>"
   ]
  },
  {
   "cell_type": "code",
   "execution_count": null,
   "id": "5d4187d6-a7b1-4067-bcef-72cf95e40fc7",
   "metadata": {},
   "outputs": [],
   "source": [
    "#pg.no. 357"
   ]
  }
 ],
 "metadata": {
  "kernelspec": {
   "display_name": "Python 3 (ipykernel)",
   "language": "python",
   "name": "python3"
  },
  "language_info": {
   "codemirror_mode": {
    "name": "ipython",
    "version": 3
   },
   "file_extension": ".py",
   "mimetype": "text/x-python",
   "name": "python",
   "nbconvert_exporter": "python",
   "pygments_lexer": "ipython3",
   "version": "3.11.6"
  }
 },
 "nbformat": 4,
 "nbformat_minor": 5
}
