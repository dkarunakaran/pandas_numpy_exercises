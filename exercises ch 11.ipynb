{
 "cells": [
  {
   "cell_type": "code",
   "execution_count": 53,
   "id": "dfadf9d4-7b69-4865-a952-b23e895ef9c6",
   "metadata": {},
   "outputs": [
    {
     "data": {
      "text/html": [
       "\n",
       "<h1>List of chapters in this book:<h1>\n",
       "<h2>Chapter 11 - Time series</h2>\n"
      ],
      "text/plain": [
       "<IPython.core.display.HTML object>"
      ]
     },
     "metadata": {},
     "output_type": "display_data"
    }
   ],
   "source": [
    "%%html\n",
    "\n",
    "<h1>List of chapters in this book:<h1>\n",
    "<h2>Chapter 11 - Time series</h2>"
   ]
  },
  {
   "cell_type": "code",
   "execution_count": 1,
   "id": "f3643c2e-98d9-429d-b407-447a76f4a6b1",
   "metadata": {},
   "outputs": [
    {
     "data": {
      "text/html": [
       "<h2>Chapter 11 - Time series</h2>\n",
       "Code examples are taken from <a href=\"https://github.com/wesm/pydata-book/blob/3rd-edition/ch11.ipynb\">https://github.com/wesm/pydata-book/blob/3rd-edition/ch11.ipynb</a>\n"
      ],
      "text/plain": [
       "<IPython.core.display.HTML object>"
      ]
     },
     "metadata": {},
     "output_type": "display_data"
    }
   ],
   "source": [
    "%%html\n",
    "<h2>Chapter 11 - Time series</h2>\n",
    "Code examples are taken from <a href=\"https://github.com/wesm/pydata-book/blob/3rd-edition/ch11.ipynb\">https://github.com/wesm/pydata-book/blob/3rd-edition/ch11.ipynb</a>"
   ]
  },
  {
   "cell_type": "code",
   "execution_count": 3,
   "id": "19c8fba4-0030-401b-8565-a752f0c16382",
   "metadata": {},
   "outputs": [],
   "source": [
    "import numpy as np\n",
    "import pandas as pd\n",
    "np.random.seed(12345)\n",
    "import matplotlib.pyplot as plt\n",
    "plt.rc(\"figure\", figsize=(10, 6))\n",
    "PREVIOUS_MAX_ROWS = pd.options.display.max_rows\n",
    "pd.options.display.max_columns = 20\n",
    "pd.options.display.max_rows = 20\n",
    "pd.options.display.max_colwidth = 80\n",
    "np.set_printoptions(precision=4, suppress=True)"
   ]
  },
  {
   "cell_type": "code",
   "execution_count": 4,
   "id": "5d4187d6-a7b1-4067-bcef-72cf95e40fc7",
   "metadata": {},
   "outputs": [
    {
     "data": {
      "text/plain": [
       "DatetimeIndex(['2011-07-06 12:00:00', '2011-08-06 00:00:00'], dtype='datetime64[ns]', freq=None)"
      ]
     },
     "execution_count": 4,
     "metadata": {},
     "output_type": "execute_result"
    }
   ],
   "source": [
    "datestrs = [\"2011-07-06 12:00:00\", \"2011-08-06 00:00:00\"]\n",
    "pd.to_datetime(datestrs)"
   ]
  },
  {
   "cell_type": "code",
   "execution_count": 6,
   "id": "dc3ff018-8307-495a-ac55-30a78ba44af6",
   "metadata": {},
   "outputs": [
    {
     "data": {
      "text/plain": [
       "2011-01-02   -0.204708\n",
       "2011-01-05    0.478943\n",
       "2011-01-07   -0.519439\n",
       "2011-01-08   -0.555730\n",
       "2011-01-10    1.965781\n",
       "2011-01-12    1.393406\n",
       "dtype: float64"
      ]
     },
     "execution_count": 6,
     "metadata": {},
     "output_type": "execute_result"
    }
   ],
   "source": [
    "from datetime import datetime\n",
    "dates = [datetime(2011, 1, 2), datetime(2011, 1, 5),\n",
    "         datetime(2011, 1, 7), datetime(2011, 1, 8),\n",
    "         datetime(2011, 1, 10), datetime(2011, 1, 12)]\n",
    "ts = pd.Series(np.random.standard_normal(6), index=dates)\n",
    "ts"
   ]
  },
  {
   "cell_type": "code",
   "execution_count": 9,
   "id": "61a1c5d1-bd8c-4fc3-957a-6dcc6776cba6",
   "metadata": {},
   "outputs": [
    {
     "data": {
      "text/plain": [
       "DatetimeIndex(['2011-01-02', '2011-01-05', '2011-01-07', '2011-01-08',\n",
       "               '2011-01-10', '2011-01-12'],\n",
       "              dtype='datetime64[ns]', freq=None)"
      ]
     },
     "execution_count": 9,
     "metadata": {},
     "output_type": "execute_result"
    }
   ],
   "source": [
    "ts.index"
   ]
  },
  {
   "cell_type": "code",
   "execution_count": 10,
   "id": "47409d1a-4d3a-4be1-861d-f4c34b90bf02",
   "metadata": {},
   "outputs": [
    {
     "data": {
      "text/plain": [
       "2000-01-01    0.092908\n",
       "2000-01-02    0.281746\n",
       "2000-01-03    0.769023\n",
       "2000-01-04    1.246435\n",
       "2000-01-05    1.007189\n",
       "                ...   \n",
       "2002-09-22    0.930944\n",
       "2002-09-23   -0.811676\n",
       "2002-09-24   -1.830156\n",
       "2002-09-25   -0.138730\n",
       "2002-09-26    0.334088\n",
       "Freq: D, Length: 1000, dtype: float64"
      ]
     },
     "execution_count": 10,
     "metadata": {},
     "output_type": "execute_result"
    }
   ],
   "source": [
    "longer_ts = pd.Series(np.random.standard_normal(1000),\n",
    "                      index=pd.date_range(\"2000-01-01\", periods=1000))\n",
    "longer_ts"
   ]
  },
  {
   "cell_type": "code",
   "execution_count": 11,
   "id": "c5ff9285-4d5a-4318-9612-4aa2fe4d8438",
   "metadata": {},
   "outputs": [
    {
     "data": {
      "text/plain": [
       "2002-09-01    0.380339\n",
       "2002-09-02   -1.067035\n",
       "2002-09-03    0.255452\n",
       "2002-09-04    2.111287\n",
       "2002-09-05   -0.634190\n",
       "                ...   \n",
       "2002-09-22    0.930944\n",
       "2002-09-23   -0.811676\n",
       "2002-09-24   -1.830156\n",
       "2002-09-25   -0.138730\n",
       "2002-09-26    0.334088\n",
       "Freq: D, Length: 26, dtype: float64"
      ]
     },
     "execution_count": 11,
     "metadata": {},
     "output_type": "execute_result"
    }
   ],
   "source": [
    "longer_ts[\"2002-09\"]"
   ]
  },
  {
   "cell_type": "code",
   "execution_count": 13,
   "id": "6429b4dc-0069-4821-afd4-bd5d1fe14f8d",
   "metadata": {},
   "outputs": [
    {
     "data": {
      "text/html": [
       "<div>\n",
       "<style scoped>\n",
       "    .dataframe tbody tr th:only-of-type {\n",
       "        vertical-align: middle;\n",
       "    }\n",
       "\n",
       "    .dataframe tbody tr th {\n",
       "        vertical-align: top;\n",
       "    }\n",
       "\n",
       "    .dataframe thead th {\n",
       "        text-align: right;\n",
       "    }\n",
       "</style>\n",
       "<table border=\"1\" class=\"dataframe\">\n",
       "  <thead>\n",
       "    <tr style=\"text-align: right;\">\n",
       "      <th></th>\n",
       "      <th>Colorado</th>\n",
       "      <th>Texas</th>\n",
       "      <th>New York</th>\n",
       "      <th>Ohio</th>\n",
       "    </tr>\n",
       "  </thead>\n",
       "  <tbody>\n",
       "    <tr>\n",
       "      <th>2001-05-02</th>\n",
       "      <td>-0.006045</td>\n",
       "      <td>0.490094</td>\n",
       "      <td>-0.277186</td>\n",
       "      <td>-0.707213</td>\n",
       "    </tr>\n",
       "    <tr>\n",
       "      <th>2001-05-09</th>\n",
       "      <td>-0.560107</td>\n",
       "      <td>2.735527</td>\n",
       "      <td>0.927335</td>\n",
       "      <td>1.513906</td>\n",
       "    </tr>\n",
       "    <tr>\n",
       "      <th>2001-05-16</th>\n",
       "      <td>0.538600</td>\n",
       "      <td>1.273768</td>\n",
       "      <td>0.667876</td>\n",
       "      <td>-0.969206</td>\n",
       "    </tr>\n",
       "    <tr>\n",
       "      <th>2001-05-23</th>\n",
       "      <td>1.676091</td>\n",
       "      <td>-0.817649</td>\n",
       "      <td>0.050188</td>\n",
       "      <td>1.951312</td>\n",
       "    </tr>\n",
       "    <tr>\n",
       "      <th>2001-05-30</th>\n",
       "      <td>3.260383</td>\n",
       "      <td>0.963301</td>\n",
       "      <td>1.201206</td>\n",
       "      <td>-1.852001</td>\n",
       "    </tr>\n",
       "  </tbody>\n",
       "</table>\n",
       "</div>"
      ],
      "text/plain": [
       "            Colorado     Texas  New York      Ohio\n",
       "2001-05-02 -0.006045  0.490094 -0.277186 -0.707213\n",
       "2001-05-09 -0.560107  2.735527  0.927335  1.513906\n",
       "2001-05-16  0.538600  1.273768  0.667876 -0.969206\n",
       "2001-05-23  1.676091 -0.817649  0.050188  1.951312\n",
       "2001-05-30  3.260383  0.963301  1.201206 -1.852001"
      ]
     },
     "execution_count": 13,
     "metadata": {},
     "output_type": "execute_result"
    }
   ],
   "source": [
    "dates = pd.date_range(\"2000-01-01\", periods=100, freq=\"W-WED\")\n",
    "dates\n",
    "long_df = pd.DataFrame(np.random.standard_normal((100, 4)),\n",
    "                       index=dates,\n",
    "                       columns=[\"Colorado\", \"Texas\",\n",
    "                                \"New York\", \"Ohio\"])\n",
    "long_df.loc[\"2001-05\"]"
   ]
  },
  {
   "cell_type": "code",
   "execution_count": 14,
   "id": "2c639768-da82-4ffc-947a-a6972f514a96",
   "metadata": {},
   "outputs": [
    {
     "data": {
      "text/html": [
       "<h3>Date ranges, Frequencies, and Shifting</h3>\n"
      ],
      "text/plain": [
       "<IPython.core.display.HTML object>"
      ]
     },
     "metadata": {},
     "output_type": "display_data"
    }
   ],
   "source": [
    "%%html\n",
    "<h3>Date ranges, Frequencies, and Shifting</h3>"
   ]
  },
  {
   "cell_type": "code",
   "execution_count": 16,
   "id": "a1d1480d-d10d-4700-8ad5-a5377414bce9",
   "metadata": {},
   "outputs": [
    {
     "data": {
      "text/plain": [
       "DatetimeIndex(['2012-04-01', '2012-04-02', '2012-04-03', '2012-04-04',\n",
       "               '2012-04-05', '2012-04-06', '2012-04-07', '2012-04-08',\n",
       "               '2012-04-09', '2012-04-10', '2012-04-11', '2012-04-12',\n",
       "               '2012-04-13', '2012-04-14', '2012-04-15', '2012-04-16',\n",
       "               '2012-04-17', '2012-04-18', '2012-04-19', '2012-04-20',\n",
       "               '2012-04-21', '2012-04-22', '2012-04-23', '2012-04-24',\n",
       "               '2012-04-25', '2012-04-26', '2012-04-27', '2012-04-28',\n",
       "               '2012-04-29', '2012-04-30', '2012-05-01', '2012-05-02',\n",
       "               '2012-05-03', '2012-05-04', '2012-05-05', '2012-05-06',\n",
       "               '2012-05-07', '2012-05-08', '2012-05-09', '2012-05-10',\n",
       "               '2012-05-11', '2012-05-12', '2012-05-13', '2012-05-14',\n",
       "               '2012-05-15', '2012-05-16', '2012-05-17', '2012-05-18',\n",
       "               '2012-05-19', '2012-05-20', '2012-05-21', '2012-05-22',\n",
       "               '2012-05-23', '2012-05-24', '2012-05-25', '2012-05-26',\n",
       "               '2012-05-27', '2012-05-28', '2012-05-29', '2012-05-30',\n",
       "               '2012-05-31', '2012-06-01'],\n",
       "              dtype='datetime64[ns]', freq='D')"
      ]
     },
     "execution_count": 16,
     "metadata": {},
     "output_type": "execute_result"
    }
   ],
   "source": [
    "index = pd.date_range(\"2012-04-01\",\"2012-06-01\")\n",
    "index"
   ]
  },
  {
   "cell_type": "code",
   "execution_count": 17,
   "id": "d33733a2-d7e9-4ccb-86d9-f84551985251",
   "metadata": {},
   "outputs": [
    {
     "data": {
      "text/plain": [
       "DatetimeIndex(['2012-04-01', '2012-04-02', '2012-04-03', '2012-04-04',\n",
       "               '2012-04-05', '2012-04-06', '2012-04-07', '2012-04-08',\n",
       "               '2012-04-09', '2012-04-10', '2012-04-11', '2012-04-12',\n",
       "               '2012-04-13', '2012-04-14', '2012-04-15', '2012-04-16',\n",
       "               '2012-04-17', '2012-04-18', '2012-04-19', '2012-04-20'],\n",
       "              dtype='datetime64[ns]', freq='D')"
      ]
     },
     "execution_count": 17,
     "metadata": {},
     "output_type": "execute_result"
    }
   ],
   "source": [
    "pd.date_range(start=\"2012-04-01\", periods=20)"
   ]
  },
  {
   "cell_type": "code",
   "execution_count": 18,
   "id": "37b10b5c-706c-4b8f-9517-0de3275df5e7",
   "metadata": {},
   "outputs": [
    {
     "data": {
      "text/plain": [
       "DatetimeIndex(['2012-05-13', '2012-05-14', '2012-05-15', '2012-05-16',\n",
       "               '2012-05-17', '2012-05-18', '2012-05-19', '2012-05-20',\n",
       "               '2012-05-21', '2012-05-22', '2012-05-23', '2012-05-24',\n",
       "               '2012-05-25', '2012-05-26', '2012-05-27', '2012-05-28',\n",
       "               '2012-05-29', '2012-05-30', '2012-05-31', '2012-06-01'],\n",
       "              dtype='datetime64[ns]', freq='D')"
      ]
     },
     "execution_count": 18,
     "metadata": {},
     "output_type": "execute_result"
    }
   ],
   "source": [
    "pd.date_range(end=\"2012-06-01\", periods=20)"
   ]
  },
  {
   "cell_type": "code",
   "execution_count": 20,
   "id": "4814d63d-d6bf-4a04-89aa-f158d8b40498",
   "metadata": {},
   "outputs": [
    {
     "name": "stderr",
     "output_type": "stream",
     "text": [
      "/tmp/ipykernel_76239/3742551278.py:1: FutureWarning: 'BM' is deprecated and will be removed in a future version, please use 'BME' instead.\n",
      "  pd.date_range(\"2000-01-01\", \"2000-12-01\", freq=\"BM\")\n"
     ]
    },
    {
     "data": {
      "text/plain": [
       "DatetimeIndex(['2000-01-31', '2000-02-29', '2000-03-31', '2000-04-28',\n",
       "               '2000-05-31', '2000-06-30', '2000-07-31', '2000-08-31',\n",
       "               '2000-09-29', '2000-10-31', '2000-11-30'],\n",
       "              dtype='datetime64[ns]', freq='BME')"
      ]
     },
     "execution_count": 20,
     "metadata": {},
     "output_type": "execute_result"
    }
   ],
   "source": [
    "pd.date_range(\"2000-01-01\", \"2000-12-01\", freq=\"BM\")"
   ]
  },
  {
   "cell_type": "code",
   "execution_count": 22,
   "id": "b3ff46b6-53ad-4cec-80bb-c95c9aa98858",
   "metadata": {},
   "outputs": [
    {
     "data": {
      "text/html": [
       "Base time series frequencies\n",
       "<img src=\"images/time_series_freq1.png\" width=400>\n",
       "<img src=\"images/time_series_freq2.png\" width=400>\n"
      ],
      "text/plain": [
       "<IPython.core.display.HTML object>"
      ]
     },
     "metadata": {},
     "output_type": "display_data"
    }
   ],
   "source": [
    "%%html\n",
    "Base time series frequencies\n",
    "<img src=\"images/time_series_freq1.png\" width=400>\n",
    "<img src=\"images/time_series_freq2.png\" width=400>"
   ]
  },
  {
   "cell_type": "code",
   "execution_count": 23,
   "id": "40622358-5d5e-4c7d-a587-7154f3e425d6",
   "metadata": {},
   "outputs": [
    {
     "data": {
      "text/html": [
       "\n",
       "<h3>Frequencies and Date offsets</h3>\n"
      ],
      "text/plain": [
       "<IPython.core.display.HTML object>"
      ]
     },
     "metadata": {},
     "output_type": "display_data"
    }
   ],
   "source": [
    "%%html\n",
    "\n",
    "<h3>Frequencies and Date offsets</h3>"
   ]
  },
  {
   "cell_type": "code",
   "execution_count": 28,
   "id": "bf1dbf09-4f61-41ca-8cfe-2f65d8f0b28e",
   "metadata": {},
   "outputs": [
    {
     "data": {
      "text/plain": [
       "<Hour>"
      ]
     },
     "execution_count": 28,
     "metadata": {},
     "output_type": "execute_result"
    }
   ],
   "source": [
    "from pandas.tseries.offsets import Hour, Minute\n",
    "hour = Hour()\n",
    "hour"
   ]
  },
  {
   "cell_type": "code",
   "execution_count": 30,
   "id": "f45f950e-bef3-4bf2-9061-8b1495ea5205",
   "metadata": {},
   "outputs": [
    {
     "data": {
      "text/plain": [
       "<150 * Minutes>"
      ]
     },
     "execution_count": 30,
     "metadata": {},
     "output_type": "execute_result"
    }
   ],
   "source": [
    "Hour(2) + Minute(30)"
   ]
  },
  {
   "cell_type": "code",
   "execution_count": 29,
   "id": "a38f1a4d-4b67-4c49-bc94-829749c76030",
   "metadata": {},
   "outputs": [
    {
     "name": "stderr",
     "output_type": "stream",
     "text": [
      "/tmp/ipykernel_76239/3449897904.py:1: FutureWarning: 'H' is deprecated and will be removed in a future version, please use 'h' instead.\n",
      "  pd.date_range(\"2000-01-01\", \"2000-01-03 23:59\", freq=\"4H\")\n"
     ]
    },
    {
     "data": {
      "text/plain": [
       "DatetimeIndex(['2000-01-01 00:00:00', '2000-01-01 04:00:00',\n",
       "               '2000-01-01 08:00:00', '2000-01-01 12:00:00',\n",
       "               '2000-01-01 16:00:00', '2000-01-01 20:00:00',\n",
       "               '2000-01-02 00:00:00', '2000-01-02 04:00:00',\n",
       "               '2000-01-02 08:00:00', '2000-01-02 12:00:00',\n",
       "               '2000-01-02 16:00:00', '2000-01-02 20:00:00',\n",
       "               '2000-01-03 00:00:00', '2000-01-03 04:00:00',\n",
       "               '2000-01-03 08:00:00', '2000-01-03 12:00:00',\n",
       "               '2000-01-03 16:00:00', '2000-01-03 20:00:00'],\n",
       "              dtype='datetime64[ns]', freq='4h')"
      ]
     },
     "execution_count": 29,
     "metadata": {},
     "output_type": "execute_result"
    }
   ],
   "source": [
    "pd.date_range(\"2000-01-01\", \"2000-01-03 23:59\", freq=\"4H\")"
   ]
  },
  {
   "cell_type": "code",
   "execution_count": 32,
   "id": "66dba762-a165-42f6-8058-7a34011a8905",
   "metadata": {},
   "outputs": [
    {
     "data": {
      "text/plain": [
       "DatetimeIndex(['2000-01-01 00:00:00', '2000-01-01 01:30:00',\n",
       "               '2000-01-01 03:00:00', '2000-01-01 04:30:00',\n",
       "               '2000-01-01 06:00:00', '2000-01-01 07:30:00',\n",
       "               '2000-01-01 09:00:00', '2000-01-01 10:30:00',\n",
       "               '2000-01-01 12:00:00', '2000-01-01 13:30:00'],\n",
       "              dtype='datetime64[ns]', freq='90min')"
      ]
     },
     "execution_count": 32,
     "metadata": {},
     "output_type": "execute_result"
    }
   ],
   "source": [
    "pd.date_range(\"2000-01-01\", periods=10, freq=\"1h30min\")"
   ]
  },
  {
   "cell_type": "code",
   "execution_count": 33,
   "id": "00f92dae-47b2-4105-9d8f-adb502853d58",
   "metadata": {},
   "outputs": [
    {
     "data": {
      "text/plain": [
       "[Timestamp('2012-01-20 00:00:00'),\n",
       " Timestamp('2012-02-17 00:00:00'),\n",
       " Timestamp('2012-03-16 00:00:00'),\n",
       " Timestamp('2012-04-20 00:00:00'),\n",
       " Timestamp('2012-05-18 00:00:00'),\n",
       " Timestamp('2012-06-15 00:00:00'),\n",
       " Timestamp('2012-07-20 00:00:00'),\n",
       " Timestamp('2012-08-17 00:00:00')]"
      ]
     },
     "execution_count": 33,
     "metadata": {},
     "output_type": "execute_result"
    }
   ],
   "source": [
    "monthly_dates = pd.date_range(\"2012-01-01\", \"2012-09-01\", freq=\"WOM-3FRI\")\n",
    "list(monthly_dates)"
   ]
  },
  {
   "cell_type": "code",
   "execution_count": 35,
   "id": "a78f190d-c26a-4e3a-947c-0628a66c286b",
   "metadata": {},
   "outputs": [
    {
     "data": {
      "text/html": [
       "\n",
       "<h3>Shifting (leading and Lagging) Data</h3>\n"
      ],
      "text/plain": [
       "<IPython.core.display.HTML object>"
      ]
     },
     "metadata": {},
     "output_type": "display_data"
    }
   ],
   "source": [
    "%%html\n",
    "\n",
    "<h3>Shifting (leading and Lagging) Data</h3>"
   ]
  },
  {
   "cell_type": "code",
   "execution_count": 36,
   "id": "fe81b997-3d6f-4239-b5af-b0345e93c923",
   "metadata": {},
   "outputs": [
    {
     "name": "stderr",
     "output_type": "stream",
     "text": [
      "/tmp/ipykernel_76239/3562605038.py:2: FutureWarning: 'M' is deprecated and will be removed in a future version, please use 'ME' instead.\n",
      "  index=pd.date_range(\"2000-01-01\", periods=4, freq=\"M\"))\n"
     ]
    },
    {
     "data": {
      "text/plain": [
       "2000-01-31   -0.066748\n",
       "2000-02-29    0.838639\n",
       "2000-03-31   -0.117388\n",
       "2000-04-30   -0.517795\n",
       "Freq: ME, dtype: float64"
      ]
     },
     "execution_count": 36,
     "metadata": {},
     "output_type": "execute_result"
    }
   ],
   "source": [
    "ts = pd.Series(np.random.standard_normal(4),\n",
    "               index=pd.date_range(\"2000-01-01\", periods=4, freq=\"M\"))\n",
    "ts"
   ]
  },
  {
   "cell_type": "code",
   "execution_count": 37,
   "id": "a9ead121-ba26-46d1-857e-524680edc231",
   "metadata": {},
   "outputs": [
    {
     "data": {
      "text/plain": [
       "2000-01-31         NaN\n",
       "2000-02-29         NaN\n",
       "2000-03-31   -0.066748\n",
       "2000-04-30    0.838639\n",
       "Freq: ME, dtype: float64"
      ]
     },
     "execution_count": 37,
     "metadata": {},
     "output_type": "execute_result"
    }
   ],
   "source": [
    "ts.shift(2)"
   ]
  },
  {
   "cell_type": "code",
   "execution_count": 38,
   "id": "0a38c52c-ace5-4a47-8daa-28029ba58cf6",
   "metadata": {},
   "outputs": [
    {
     "data": {
      "text/plain": [
       "2000-01-31   -0.117388\n",
       "2000-02-29   -0.517795\n",
       "2000-03-31         NaN\n",
       "2000-04-30         NaN\n",
       "Freq: ME, dtype: float64"
      ]
     },
     "execution_count": 38,
     "metadata": {},
     "output_type": "execute_result"
    }
   ],
   "source": [
    "ts.shift(-2)"
   ]
  },
  {
   "cell_type": "code",
   "execution_count": 39,
   "id": "03a98752-1544-4843-83ab-129b02f698df",
   "metadata": {},
   "outputs": [
    {
     "name": "stderr",
     "output_type": "stream",
     "text": [
      "/tmp/ipykernel_76239/903147437.py:1: FutureWarning: 'M' is deprecated and will be removed in a future version, please use 'ME' instead.\n",
      "  ts.shift(2, freq=\"M\")\n"
     ]
    },
    {
     "data": {
      "text/plain": [
       "2000-03-31   -0.066748\n",
       "2000-04-30    0.838639\n",
       "2000-05-31   -0.117388\n",
       "2000-06-30   -0.517795\n",
       "Freq: ME, dtype: float64"
      ]
     },
     "execution_count": 39,
     "metadata": {},
     "output_type": "execute_result"
    }
   ],
   "source": [
    "ts.shift(2, freq=\"M\")"
   ]
  },
  {
   "cell_type": "code",
   "execution_count": 41,
   "id": "24cf6064-18e3-4b2a-bd1d-7246d0832a30",
   "metadata": {},
   "outputs": [
    {
     "data": {
      "text/html": [
       "\n",
       "<h3>Time Zone Handling</h3>\n"
      ],
      "text/plain": [
       "<IPython.core.display.HTML object>"
      ]
     },
     "metadata": {},
     "output_type": "display_data"
    }
   ],
   "source": [
    "%%html\n",
    "\n",
    "<h3>Time Zone Handling</h3>"
   ]
  },
  {
   "cell_type": "code",
   "execution_count": 42,
   "id": "485a93c5-79be-46a6-8cff-a81bb39f8d05",
   "metadata": {},
   "outputs": [
    {
     "data": {
      "text/plain": [
       "2012-03-09 09:30:00   -0.116696\n",
       "2012-03-10 09:30:00    2.389645\n",
       "2012-03-11 09:30:00   -0.932454\n",
       "2012-03-12 09:30:00   -0.229331\n",
       "2012-03-13 09:30:00   -1.140330\n",
       "2012-03-14 09:30:00    0.439920\n",
       "Freq: D, dtype: float64"
      ]
     },
     "execution_count": 42,
     "metadata": {},
     "output_type": "execute_result"
    }
   ],
   "source": [
    "dates = pd.date_range(\"2012-03-09 09:30\", periods=6)\n",
    "ts = pd.Series(np.random.standard_normal(len(dates)), index=dates)\n",
    "ts"
   ]
  },
  {
   "cell_type": "code",
   "execution_count": 44,
   "id": "bb549203-aac2-4cb9-80ce-1fcebeb44ab8",
   "metadata": {},
   "outputs": [
    {
     "name": "stdout",
     "output_type": "stream",
     "text": [
      "None\n"
     ]
    }
   ],
   "source": [
    "print(ts.index.tz)"
   ]
  },
  {
   "cell_type": "code",
   "execution_count": 47,
   "id": "378fceb9-5542-477e-a686-b1f155584a41",
   "metadata": {},
   "outputs": [
    {
     "data": {
      "text/plain": [
       "DatetimeIndex(['2012-03-09 09:30:00+00:00', '2012-03-10 09:30:00+00:00',\n",
       "               '2012-03-11 09:30:00+00:00', '2012-03-12 09:30:00+00:00',\n",
       "               '2012-03-13 09:30:00+00:00', '2012-03-14 09:30:00+00:00',\n",
       "               '2012-03-15 09:30:00+00:00', '2012-03-16 09:30:00+00:00',\n",
       "               '2012-03-17 09:30:00+00:00', '2012-03-18 09:30:00+00:00'],\n",
       "              dtype='datetime64[ns, UTC]', freq='D')"
      ]
     },
     "execution_count": 47,
     "metadata": {},
     "output_type": "execute_result"
    }
   ],
   "source": [
    "pd.date_range(\"2012-03-09 09:30\", periods=10, tz=\"UTC\")"
   ]
  },
  {
   "cell_type": "code",
   "execution_count": 51,
   "id": "37a8e978-dc6d-42bb-9019-f017d6aa9301",
   "metadata": {},
   "outputs": [
    {
     "data": {
      "text/plain": [
       "2012-03-09 09:30:00+00:00   -0.116696\n",
       "2012-03-10 09:30:00+00:00    2.389645\n",
       "2012-03-11 09:30:00+00:00   -0.932454\n",
       "2012-03-12 09:30:00+00:00   -0.229331\n",
       "2012-03-13 09:30:00+00:00   -1.140330\n",
       "2012-03-14 09:30:00+00:00    0.439920\n",
       "Freq: D, dtype: float64"
      ]
     },
     "execution_count": 51,
     "metadata": {},
     "output_type": "execute_result"
    }
   ],
   "source": [
    "# Conversion from naive to localized\n",
    "ts_utc = ts.tz_localize(\"UTC\")\n",
    "ts_utc"
   ]
  },
  {
   "cell_type": "code",
   "execution_count": 52,
   "id": "c2cb727c-f3d0-4e7b-9773-5df84bd4a0bd",
   "metadata": {},
   "outputs": [
    {
     "data": {
      "text/plain": [
       "2012-03-09 04:30:00-05:00   -0.116696\n",
       "2012-03-10 04:30:00-05:00    2.389645\n",
       "2012-03-11 05:30:00-04:00   -0.932454\n",
       "2012-03-12 05:30:00-04:00   -0.229331\n",
       "2012-03-13 05:30:00-04:00   -1.140330\n",
       "2012-03-14 05:30:00-04:00    0.439920\n",
       "Freq: D, dtype: float64"
      ]
     },
     "execution_count": 52,
     "metadata": {},
     "output_type": "execute_result"
    }
   ],
   "source": [
    "# Convert to another timezone\n",
    "ts_utc.tz_convert(\"America/New_York\")\n"
   ]
  },
  {
   "cell_type": "code",
   "execution_count": null,
   "id": "1919d0af-7857-4ae5-a9c4-390a77d29554",
   "metadata": {},
   "outputs": [],
   "source": []
  },
  {
   "cell_type": "code",
   "execution_count": null,
   "id": "d43b9d67-9ae1-4532-97a4-482805a805b6",
   "metadata": {},
   "outputs": [],
   "source": []
  }
 ],
 "metadata": {
  "kernelspec": {
   "display_name": "Python 3 (ipykernel)",
   "language": "python",
   "name": "python3"
  },
  "language_info": {
   "codemirror_mode": {
    "name": "ipython",
    "version": 3
   },
   "file_extension": ".py",
   "mimetype": "text/x-python",
   "name": "python",
   "nbconvert_exporter": "python",
   "pygments_lexer": "ipython3",
   "version": "3.11.6"
  }
 },
 "nbformat": 4,
 "nbformat_minor": 5
}
