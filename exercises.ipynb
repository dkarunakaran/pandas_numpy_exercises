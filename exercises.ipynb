{
 "cells": [
  {
   "cell_type": "code",
   "execution_count": 8,
   "id": "e99787cb-7670-424e-bc41-1cdf3ae022c9",
   "metadata": {},
   "outputs": [
    {
     "data": {
      "text/html": [
       "\n",
       "<h1>Code from Python For Data Analysis book by Wes McKinney</h1>\n",
       "This notebook contains code from chapters 2 to 5.\n"
      ],
      "text/plain": [
       "<IPython.core.display.HTML object>"
      ]
     },
     "metadata": {},
     "output_type": "display_data"
    }
   ],
   "source": [
    "%%html\n",
    "\n",
    "<h1>Code from Python For Data Analysis book by Wes McKinney</h1>\n",
    "This notebook contains code from chapters 2 to 5."
   ]
  },
  {
   "cell_type": "code",
   "execution_count": 2,
   "id": "71849090-6823-4388-b632-3b25ccb85758",
   "metadata": {},
   "outputs": [
    {
     "data": {
      "text/html": [
       "\n",
       "<h2>Chapter 2  - Python language basics</h2>\n"
      ],
      "text/plain": [
       "<IPython.core.display.HTML object>"
      ]
     },
     "metadata": {},
     "output_type": "display_data"
    }
   ],
   "source": [
    "%%html\n",
    "\n",
    "<h2>Chapter 2  - Python language basics</h2>"
   ]
  },
  {
   "cell_type": "code",
   "execution_count": 31,
   "id": "0e19414c-5110-4ed9-b0d2-c9b6c2cc40f9",
   "metadata": {},
   "outputs": [
    {
     "name": "stdout",
     "output_type": "stream",
     "text": [
      "3\n"
     ]
    }
   ],
   "source": [
    "# Python statement doesnot need to use semicolon to terminate. However, semicolon can be \n",
    "# used to seperate multiple statements on a single line. \n",
    "a=1;c=3;b=1\n",
    "print(c)"
   ]
  },
  {
   "cell_type": "code",
   "execution_count": 32,
   "id": "42e33b02-86ba-4632-adb6-78835b7cc174",
   "metadata": {},
   "outputs": [],
   "source": [
    "# EVerything in python is a python object - string, data structures, function, class etc."
   ]
  },
  {
   "cell_type": "code",
   "execution_count": 35,
   "id": "02038d1b-79b8-4a80-9703-d96d550f0a47",
   "metadata": {},
   "outputs": [
    {
     "name": "stdout",
     "output_type": "stream",
     "text": [
      "True\n",
      "False\n",
      "True\n"
     ]
    }
   ],
   "source": [
    "x = [\"apple\", \"banana\"]\n",
    "y = [\"apple\", \"banana\"]\n",
    "z = x\n",
    "\n",
    "print(x is z)\n",
    "\n",
    "# returns True because z is the same object as x\n",
    "\n",
    "print(x is y)\n",
    "\n",
    "# returns False because x is not the same object as y, even if they have the same content\n",
    "\n",
    "print(x == y)\n",
    "\n",
    "# to demonstrate the difference betweeen \"is\" and \"==\": this comparison returns True because x is equal to y\n"
   ]
  },
  {
   "cell_type": "code",
   "execution_count": 4,
   "id": "e99534e6-9995-4359-871c-ff9a719f8f29",
   "metadata": {},
   "outputs": [
    {
     "name": "stdout",
     "output_type": "stream",
     "text": [
      "<class 'str'>\n",
      "<class 'float'>\n",
      "True\n"
     ]
    }
   ],
   "source": [
    "# Type casting \n",
    "val = \"3.14\"\n",
    "print(type(val))\n",
    "val = float(val)\n",
    "print(type(val))\n",
    "val = bool(val) # most non zero value will be true for boolean casting and false for zero.\n",
    "print(val) "
   ]
  },
  {
   "cell_type": "code",
   "execution_count": 8,
   "id": "f64f0763-8f4b-43f9-a872-8072771c1078",
   "metadata": {},
   "outputs": [
    {
     "name": "stdout",
     "output_type": "stream",
     "text": [
      "2011-10-29\n",
      "29\n",
      "30\n"
     ]
    }
   ],
   "source": [
    "# Date and times\n",
    "\n",
    "from datetime import datetime, date, time\n",
    "\n",
    "dt = datetime(2011,10,29,20,30,21)\n",
    "\n",
    "print(dt.date())\n",
    "print(dt.day)\n",
    "print(dt.minute)"
   ]
  },
  {
   "cell_type": "code",
   "execution_count": 9,
   "id": "9d278cb1-5d93-4446-9c78-40bca6eb1733",
   "metadata": {},
   "outputs": [
    {
     "data": {
      "text/html": [
       "\n",
       "<h2>Chapter 3  - Built in data structures, functions, and files</h2>\n"
      ],
      "text/plain": [
       "<IPython.core.display.HTML object>"
      ]
     },
     "metadata": {},
     "output_type": "display_data"
    }
   ],
   "source": [
    "%%html\n",
    "\n",
    "<h2>Chapter 3  - Built in data structures, functions, and files</h2>"
   ]
  },
  {
   "cell_type": "code",
   "execution_count": 14,
   "id": "20cca948-b146-4190-9d22-90e981ba3e01",
   "metadata": {},
   "outputs": [
    {
     "data": {
      "text/html": [
       "\n",
       "<h3>Tuple</h3>\n"
      ],
      "text/plain": [
       "<IPython.core.display.HTML object>"
      ]
     },
     "metadata": {},
     "output_type": "display_data"
    }
   ],
   "source": [
    "%%html\n",
    "\n",
    "<h3>Tuple</h3>"
   ]
  },
  {
   "cell_type": "code",
   "execution_count": 12,
   "id": "ce6ba648-1fe9-4b10-bc8c-cc4bff5d145b",
   "metadata": {},
   "outputs": [
    {
     "name": "stdout",
     "output_type": "stream",
     "text": [
      "1\n"
     ]
    },
    {
     "ename": "TypeError",
     "evalue": "'tuple' object does not support item assignment",
     "output_type": "error",
     "traceback": [
      "\u001b[0;31m---------------------------------------------------------------------------\u001b[0m",
      "\u001b[0;31mTypeError\u001b[0m                                 Traceback (most recent call last)",
      "Cell \u001b[0;32mIn[12], line 8\u001b[0m\n\u001b[1;32m      6\u001b[0m \u001b[38;5;66;03m#Immuatable\u001b[39;00m\n\u001b[1;32m      7\u001b[0m \u001b[38;5;28mprint\u001b[39m(tup[\u001b[38;5;241m0\u001b[39m])\n\u001b[0;32m----> 8\u001b[0m \u001b[43mtup\u001b[49m\u001b[43m[\u001b[49m\u001b[38;5;241;43m0\u001b[39;49m\u001b[43m]\u001b[49m \u001b[38;5;241m=\u001b[39m\u001b[38;5;241m4\u001b[39m\n",
      "\u001b[0;31mTypeError\u001b[0m: 'tuple' object does not support item assignment"
     ]
    }
   ],
   "source": [
    "tup = (1,2,3)\n",
    "\n",
    "#Immuatable\n",
    "print(tup[0])\n",
    "tup[0] =4"
   ]
  },
  {
   "cell_type": "code",
   "execution_count": 16,
   "id": "14af7abf-eec4-484a-8909-425900c6139b",
   "metadata": {},
   "outputs": [
    {
     "name": "stdout",
     "output_type": "stream",
     "text": [
      "('s', 't', 'r', 'i', 'n', 'g')\n"
     ]
    }
   ],
   "source": [
    "# In many context, paranenthesis can be omitted\n",
    "tup = 1,2,3\n",
    "\n",
    "# Tuple casting\n",
    "tup = tuple('string')\n",
    "print(tup)"
   ]
  },
  {
   "cell_type": "code",
   "execution_count": 18,
   "id": "a5d2612f-2178-467d-b5b3-1ef8db0257ba",
   "metadata": {},
   "outputs": [
    {
     "name": "stdout",
     "output_type": "stream",
     "text": [
      "((4, 5, 6), (7, 8))\n",
      "(4, 5, 6)\n"
     ]
    }
   ],
   "source": [
    "# Nested tuple\n",
    "tup = (4,5,6),(7,8)\n",
    "print(tup)\n",
    "print(tup[0])"
   ]
  },
  {
   "cell_type": "code",
   "execution_count": 19,
   "id": "e3021492-da72-4d3d-966b-b0b15979284a",
   "metadata": {},
   "outputs": [],
   "source": [
    "# tuple can hold mixed data formats\n",
    "tup = (4,5,6),\"hello\",(5,6)"
   ]
  },
  {
   "cell_type": "code",
   "execution_count": 20,
   "id": "4df05af2-9201-4b5e-aaf8-6cffecdd8cc0",
   "metadata": {},
   "outputs": [
    {
     "name": "stdout",
     "output_type": "stream",
     "text": [
      "((4, 5, 6), 'hello', (5, 6))\n"
     ]
    }
   ],
   "source": [
    "print(tup)"
   ]
  },
  {
   "cell_type": "code",
   "execution_count": 24,
   "id": "d39c7867-06fb-4abd-a911-679dbd15422b",
   "metadata": {},
   "outputs": [
    {
     "name": "stdout",
     "output_type": "stream",
     "text": [
      "1\n",
      "6\n"
     ]
    }
   ],
   "source": [
    "# Unpacking tuples\n",
    "tup = (1,2,3)\n",
    "a,b,c = tup\n",
    "print(a)\n",
    "\n",
    "tup = (4,5,(6,7))\n",
    "a,b,(c,d) = tup\n",
    "print(c)"
   ]
  },
  {
   "cell_type": "code",
   "execution_count": 28,
   "id": "81214b67-38bd-4079-bbf7-5e99552d4556",
   "metadata": {},
   "outputs": [
    {
     "name": "stdout",
     "output_type": "stream",
     "text": [
      "[3, 4, 5]\n",
      "1\n"
     ]
    }
   ],
   "source": [
    "# special unpacking\n",
    "values = (1,2,3,4,5)\n",
    "\n",
    "a,b,*rest = values\n",
    "print(rest)\n",
    "\n",
    "# Tuple has a count method that can count the occurrence of a value.\n",
    "print(values.count(1))"
   ]
  },
  {
   "cell_type": "code",
   "execution_count": 29,
   "id": "e4234ede-36b9-4940-ad5f-1372cb387052",
   "metadata": {},
   "outputs": [
    {
     "data": {
      "text/html": [
       "\n",
       "<h3>List</h3>\n"
      ],
      "text/plain": [
       "<IPython.core.display.HTML object>"
      ]
     },
     "metadata": {},
     "output_type": "display_data"
    }
   ],
   "source": [
    "%%html\n",
    "\n",
    "<h3>List</h3>"
   ]
  },
  {
   "cell_type": "code",
   "execution_count": 31,
   "id": "8984092d-5a00-473c-b189-c2d600bc6798",
   "metadata": {},
   "outputs": [
    {
     "name": "stdout",
     "output_type": "stream",
     "text": [
      "<class 'list'>\n"
     ]
    }
   ],
   "source": [
    "# List is a mutable object\n",
    "\n",
    "li = [1,2,3]\n",
    "print(type(li))"
   ]
  },
  {
   "cell_type": "code",
   "execution_count": 45,
   "id": "2d64d712-344f-4442-a466-8ebb47581528",
   "metadata": {},
   "outputs": [
    {
     "name": "stdout",
     "output_type": "stream",
     "text": [
      "['f', 'g', 'h', 'i']\n",
      "['e', 'f', 'g', 'h', 'i']\n",
      "['e', 'g', 'h', 'i']\n",
      "['e', 'g', 'h']\n",
      "True\n",
      "False\n"
     ]
    }
   ],
   "source": [
    "# we can append a new value to the end of list using append function\n",
    "# we can insert a new value to a specific location\n",
    "li = ['f', 'g', 'h']\n",
    "li.append('i')\n",
    "print(li)\n",
    "li.insert(0,'e')\n",
    "print(li)\n",
    "\n",
    "# Inverse operation of the insert is pop - f is gone\n",
    "li.pop(1)\n",
    "print(li)\n",
    "\n",
    "# We can remove by value\n",
    "li.remove('i')\n",
    "print(li)\n",
    "\n",
    "# Checking a value contain in list\n",
    "print('g' in li)\n",
    "print('f' in li)"
   ]
  },
  {
   "cell_type": "code",
   "execution_count": 46,
   "id": "3a0ba26d-5567-4ef3-ac5f-fbf68600bc8d",
   "metadata": {},
   "outputs": [
    {
     "name": "stdout",
     "output_type": "stream",
     "text": [
      "['e', 'g', 'h', 1, 2]\n",
      "['e', 'g', 'h', 3, 4]\n"
     ]
    }
   ],
   "source": [
    "# We can concatenate two list using + operator. Also, we can extend method.\n",
    "li2=[1,2]\n",
    "print(li+li2)\n",
    "li.extend([3,4])\n",
    "print(li)"
   ]
  },
  {
   "cell_type": "code",
   "execution_count": 48,
   "id": "e7f269db-9270-4b6a-8614-cf17ae74ccb5",
   "metadata": {},
   "outputs": [
    {
     "name": "stdout",
     "output_type": "stream",
     "text": [
      "[1, 2, 3, 4, 5]\n"
     ]
    }
   ],
   "source": [
    "# Sorting\n",
    "a =[4,5,2,3,1]\n",
    "a.sort()\n",
    "print(a)"
   ]
  },
  {
   "cell_type": "code",
   "execution_count": 57,
   "id": "d89fa3b9-de9c-4caf-8cd4-72d59a8797c0",
   "metadata": {},
   "outputs": [
    {
     "name": "stdout",
     "output_type": "stream",
     "text": [
      "['h', 'e', 'l', 'l', 'o', '!']\n",
      "['e']\n",
      "['h', 'e']\n",
      "['h', 'l', 'o']\n",
      "['!', 'o', 'l', 'l', 'e', 'h']\n"
     ]
    }
   ],
   "source": [
    "# Slicing\n",
    "\n",
    "str = \"hello!\"\n",
    "li = list(str)\n",
    "print(li)\n",
    "# 0   1   2   3   4   5 => +ive indices\n",
    "# h   e   l   l   o   !\n",
    "#-6  -5  -4  -3  -2  -1 => -ve indices\n",
    "# An important point to remember is that the start index is included and the stop index is not. Another point negative indices starts from -1.\n",
    "print(li[1:2])\n",
    "print(li[-6:-4])\n",
    "\n",
    "# Third option in slicing - Take every other element, -v for revering the list\n",
    "print(li[::2])\n",
    "print(li[::-1])\n"
   ]
  },
  {
   "cell_type": "code",
   "execution_count": 58,
   "id": "ee564bb0-9d3b-4102-9868-8835eeeadac3",
   "metadata": {},
   "outputs": [
    {
     "data": {
      "text/html": [
       "\n",
       "<h3>Dictionary</h3>\n"
      ],
      "text/plain": [
       "<IPython.core.display.HTML object>"
      ]
     },
     "metadata": {},
     "output_type": "display_data"
    }
   ],
   "source": [
    "%%html\n",
    "\n",
    "<h3>Dictionary</h3>"
   ]
  },
  {
   "cell_type": "code",
   "execution_count": 59,
   "id": "c32a9bae-576d-473b-84af-5ebac8a3583d",
   "metadata": {},
   "outputs": [],
   "source": [
    "dict = {}"
   ]
  },
  {
   "cell_type": "code",
   "execution_count": 61,
   "id": "fe1d9d6d-f08d-4b6a-8a30-be116bf16112",
   "metadata": {},
   "outputs": [
    {
     "name": "stdout",
     "output_type": "stream",
     "text": [
      "{'a': 1, 'b': 4}\n"
     ]
    }
   ],
   "source": [
    "# It has key value pair and it is mutable object\n",
    "dict ={\"a\":1,\"b\":4}\n",
    "print(dict)\n",
    "# It can have mixed data type values"
   ]
  },
  {
   "cell_type": "code",
   "execution_count": 63,
   "id": "b6171105-83f2-4ed4-8381-5550a76657ae",
   "metadata": {},
   "outputs": [
    {
     "name": "stdout",
     "output_type": "stream",
     "text": [
      "dict_keys(['a', 'b'])\n",
      "dict_values([1, 4])\n"
     ]
    }
   ],
   "source": [
    "# Keys & value\n",
    "print(dict.keys())\n",
    "print(dict.values())"
   ]
  },
  {
   "cell_type": "code",
   "execution_count": 69,
   "id": "ae4c9130-c7f9-499c-8f43-e9aae1bd2d9b",
   "metadata": {},
   "outputs": [
    {
     "name": "stdout",
     "output_type": "stream",
     "text": [
      "{'a': ['apple', 'atom'], 'b': ['bat', 'bar', 'book']}\n",
      "defaultdict(<class 'list'>, {'a': ['apple', 'atom'], 'b': ['bat', 'bar', 'book']})\n"
     ]
    }
   ],
   "source": [
    "#defaultdict\n",
    "\n",
    "words = [\"apple\", \"bat\", \"bar\", \"atom\", \"book\"]\n",
    "by_letter = {}\n",
    "for word in words:\n",
    "    letter = word[0]\n",
    "    if letter not in by_letter:\n",
    "       by_letter[letter] = [word]\n",
    "    else:\n",
    "       by_letter[letter].append(word)\n",
    "\n",
    "print(by_letter)\n",
    "\n",
    "# We can replace this by defaultdict which add default value\n",
    "\n",
    "from collections import defaultdict\n",
    "by_letter = defaultdict(list)\n",
    "for word in words:\n",
    "    letter = word[0]\n",
    "    by_letter[letter].append(word)\n",
    "print(by_letter)\n",
    "\n",
    "\n"
   ]
  },
  {
   "cell_type": "code",
   "execution_count": 70,
   "id": "84c4da52-d64e-49bc-b305-8b3cb2bda5b5",
   "metadata": {},
   "outputs": [
    {
     "data": {
      "text/html": [
       "\n",
       "<h3>Set</h3>\n"
      ],
      "text/plain": [
       "<IPython.core.display.HTML object>"
      ]
     },
     "metadata": {},
     "output_type": "display_data"
    }
   ],
   "source": [
    "%%html\n",
    "\n",
    "<h3>Set</h3>"
   ]
  },
  {
   "cell_type": "code",
   "execution_count": null,
   "id": "1302d8e8-23d5-4064-ac6b-deafa3fd2592",
   "metadata": {},
   "outputs": [],
   "source": [
    "#Pg no. 59"
   ]
  }
 ],
 "metadata": {
  "kernelspec": {
   "display_name": "Python 3 (ipykernel)",
   "language": "python",
   "name": "python3"
  },
  "language_info": {
   "codemirror_mode": {
    "name": "ipython",
    "version": 3
   },
   "file_extension": ".py",
   "mimetype": "text/x-python",
   "name": "python",
   "nbconvert_exporter": "python",
   "pygments_lexer": "ipython3",
   "version": "3.11.6"
  }
 },
 "nbformat": 4,
 "nbformat_minor": 5
}
