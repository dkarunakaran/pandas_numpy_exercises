{
 "cells": [
  {
   "cell_type": "code",
   "execution_count": 8,
   "id": "e99787cb-7670-424e-bc41-1cdf3ae022c9",
   "metadata": {},
   "outputs": [
    {
     "data": {
      "text/html": [
       "\n",
       "<h1>Code from Python For Data Analysis book by Wes McKinney</h1>\n",
       "This notebook contains code from chapters 2 to 5.\n"
      ],
      "text/plain": [
       "<IPython.core.display.HTML object>"
      ]
     },
     "metadata": {},
     "output_type": "display_data"
    }
   ],
   "source": [
    "%%html\n",
    "\n",
    "<h1>Code from Python For Data Analysis book by Wes McKinney</h1>\n",
    "This notebook contains code from chapters 2 to 5."
   ]
  },
  {
   "cell_type": "code",
   "execution_count": 2,
   "id": "71849090-6823-4388-b632-3b25ccb85758",
   "metadata": {},
   "outputs": [
    {
     "data": {
      "text/html": [
       "\n",
       "<h2>Chapter 2  - Python language basics</h2>\n"
      ],
      "text/plain": [
       "<IPython.core.display.HTML object>"
      ]
     },
     "metadata": {},
     "output_type": "display_data"
    }
   ],
   "source": [
    "%%html\n",
    "\n",
    "<h2>Chapter 2  - Python language basics</h2>"
   ]
  },
  {
   "cell_type": "code",
   "execution_count": 31,
   "id": "0e19414c-5110-4ed9-b0d2-c9b6c2cc40f9",
   "metadata": {},
   "outputs": [
    {
     "name": "stdout",
     "output_type": "stream",
     "text": [
      "3\n"
     ]
    }
   ],
   "source": [
    "# Python statement doesnot need to use semicolon to terminate. However, semicolon can be \n",
    "# used to seperate multiple statements on a single line. \n",
    "a=1;c=3;b=1\n",
    "print(c)"
   ]
  },
  {
   "cell_type": "code",
   "execution_count": 32,
   "id": "42e33b02-86ba-4632-adb6-78835b7cc174",
   "metadata": {},
   "outputs": [],
   "source": [
    "# EVerything in python is a python object - string, data structures, function, class etc."
   ]
  },
  {
   "cell_type": "code",
   "execution_count": 35,
   "id": "02038d1b-79b8-4a80-9703-d96d550f0a47",
   "metadata": {},
   "outputs": [
    {
     "name": "stdout",
     "output_type": "stream",
     "text": [
      "True\n",
      "False\n",
      "True\n"
     ]
    }
   ],
   "source": [
    "x = [\"apple\", \"banana\"]\n",
    "y = [\"apple\", \"banana\"]\n",
    "z = x\n",
    "\n",
    "print(x is z)\n",
    "\n",
    "# returns True because z is the same object as x\n",
    "\n",
    "print(x is y)\n",
    "\n",
    "# returns False because x is not the same object as y, even if they have the same content\n",
    "\n",
    "print(x == y)\n",
    "\n",
    "# to demonstrate the difference betweeen \"is\" and \"==\": this comparison returns True because x is equal to y\n"
   ]
  },
  {
   "cell_type": "code",
   "execution_count": null,
   "id": "e99534e6-9995-4359-871c-ff9a719f8f29",
   "metadata": {},
   "outputs": [],
   "source": [
    "# Bytes & Unicode - pg 38"
   ]
  },
  {
   "cell_type": "code",
   "execution_count": null,
   "id": "f64f0763-8f4b-43f9-a872-8072771c1078",
   "metadata": {},
   "outputs": [],
   "source": []
  }
 ],
 "metadata": {
  "kernelspec": {
   "display_name": "Python 3 (ipykernel)",
   "language": "python",
   "name": "python3"
  },
  "language_info": {
   "codemirror_mode": {
    "name": "ipython",
    "version": 3
   },
   "file_extension": ".py",
   "mimetype": "text/x-python",
   "name": "python",
   "nbconvert_exporter": "python",
   "pygments_lexer": "ipython3",
   "version": "3.11.6"
  }
 },
 "nbformat": 4,
 "nbformat_minor": 5
}
